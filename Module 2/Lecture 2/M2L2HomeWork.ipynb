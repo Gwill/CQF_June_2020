{
 "cells": [
  {
   "cell_type": "code",
   "execution_count": 2,
   "metadata": {},
   "outputs": [],
   "source": [
    "import numpy as np\n",
    "from numpy.linalg import inv"
   ]
  },
  {
   "cell_type": "code",
   "execution_count": 3,
   "metadata": {},
   "outputs": [],
   "source": [
    "#Q1, given expected return of each asset: miu, volatility: stdev, correlation coefficients: R, expected portfolio retuen: m"
   ]
  },
  {
   "cell_type": "code",
   "execution_count": 4,
   "metadata": {},
   "outputs": [],
   "source": [
    "class portfolio_optimisation: \n",
    "    \n",
    "    def __init__(self,miu,stdev,R, m):\n",
    "        self.miu = miu\n",
    "        self.stdev = stdev\n",
    "        self.R = R\n",
    "        self.m = m\n",
    "    \n",
    "    def sigma(self):\n",
    "        S = np.diag(self.stdev)\n",
    "        sigma = np.dot(np.dot(S,self.R),S)\n",
    "        return sigma\n",
    "    \n",
    "    def I(self):\n",
    "        I=np.ones(self.sigma().shape[0])\n",
    "        return I\n",
    "                   \n",
    "    def A(self):\n",
    "        A=np.dot((np.dot(self.I().T,inv(self.sigma()))),self.I())\n",
    "        return A\n",
    "    \n",
    "    def B(self):\n",
    "        B=np.dot((np.dot(self.miu.T,inv(self.sigma()))),self.I())\n",
    "        return B\n",
    "    \n",
    "    def C(self):\n",
    "        C=np.dot((np.dot(self.miu.T,inv(self.sigma()))),miu)\n",
    "        return C\n",
    "    \n",
    "    def lam(self):\n",
    "        lam=(m*self.A()-self.B())/(np.dot(self.A(),self.C())-np.dot(self.B(),self.B()))\n",
    "        return lam\n",
    "    \n",
    "    def gamma(self):\n",
    "        gamma=(self.C()-self.B()*self.m)/(np.dot(self.A(),self.C())-np.dot(self.B(),self.B()))\n",
    "        return gamma\n",
    "    \n",
    "    def omega(self):\n",
    "        omega=np.dot(inv(self.sigma()),(self.lam()*self.miu.T+self.gamma()*self.I().T))\n",
    "        if self.sigma().all()>0:\n",
    "            print('omega for minimum variance')\n",
    "        elif self.sigma().all()==0:\n",
    "            print('omega at stationary point')\n",
    "        else: \n",
    "            print('omega for maximum variance')\n",
    "        return omega\n",
    "   \n",
    "   \n",
    "        \n",
    "        "
   ]
  },
  {
   "cell_type": "code",
   "execution_count": 5,
   "metadata": {},
   "outputs": [],
   "source": [
    "#______________________________________part a____________________________________________"
   ]
  },
  {
   "cell_type": "code",
   "execution_count": 6,
   "metadata": {},
   "outputs": [
    {
     "name": "stdout",
     "output_type": "stream",
     "text": [
      "[[1.  0.2 0.5 0.3]\n",
      " [0.2 1.  0.7 0.4]\n",
      " [0.5 0.7 1.  0.9]\n",
      " [0.3 0.4 0.9 1. ]]\n"
     ]
    }
   ],
   "source": [
    "#input\n",
    "miu=np.array([0.08,0.10,0.10,0.14])\n",
    "stdev=np.array([0.12,0.12,0.15,0.20])\n",
    "R1=np.array([[1,0.2,0.5,0.3],[0.2,1,0.7,0.4],[0.5,0.7,1,0.9],[0.3,0.4,0.9,1]])\n",
    "m=0.1\n",
    "print(R1)"
   ]
  },
  {
   "cell_type": "code",
   "execution_count": 6,
   "metadata": {},
   "outputs": [
    {
     "name": "stdout",
     "output_type": "stream",
     "text": [
      "Q1, part a\n",
      "sigma= [[0.0144  0.00288 0.009   0.0072 ]\n",
      " [0.00288 0.0144  0.0126  0.0096 ]\n",
      " [0.009   0.0126  0.0225  0.027  ]\n",
      " [0.0072  0.0096  0.027   0.04   ]]\n",
      "I= [1. 1. 1. 1.]\n",
      "A= 456.5217391304318\n",
      "B= 63.81642512077235\n",
      "C= 9.38969404186787\n",
      "lambda= -0.08485456369106822\n",
      "gamma= 0.01405215646940751\n",
      "omega for minimum variance\n",
      "omega= ['76.23%', '84.42%', '-98.76%', '38.11%']\n"
     ]
    }
   ],
   "source": [
    "print('Q1, part a')\n",
    "portfolio=portfolio_optimisation(miu,stdev,R1,m)\n",
    "print('sigma=',portfolio.sigma())\n",
    "print('I=',portfolio.I())\n",
    "print('A=',portfolio.A())\n",
    "print('B=',portfolio.B())\n",
    "print('C=',portfolio.C())\n",
    "print('lambda=',portfolio.lam())\n",
    "print('gamma=',portfolio.gamma())\n",
    "print('omega=',['{:.2%}'.format(value) for value in portfolio.omega()])"
   ]
  },
  {
   "cell_type": "code",
   "execution_count": 7,
   "metadata": {},
   "outputs": [],
   "source": [
    "#_______________________________________part b_____________________________________________"
   ]
  },
  {
   "cell_type": "code",
   "execution_count": 8,
   "metadata": {},
   "outputs": [],
   "source": [
    "#input\n",
    "miu=np.array([0.08,0.10,0.10,0.14])\n",
    "stdev=np.array([0.12,0.12,0.15,0.20])\n",
    "R2=np.identity(4)\n",
    "m=0.1"
   ]
  },
  {
   "cell_type": "code",
   "execution_count": 9,
   "metadata": {},
   "outputs": [
    {
     "name": "stdout",
     "output_type": "stream",
     "text": [
      "Q1, part b\n",
      "sigma= [[0.0144 0.     0.     0.    ]\n",
      " [0.     0.0144 0.     0.    ]\n",
      " [0.     0.     0.0225 0.    ]\n",
      " [0.     0.     0.     0.04  ]]\n",
      "I= [1. 1. 1. 1.]\n",
      "A= 208.33333333333331\n",
      "B= 20.444444444444443\n",
      "C= 2.0733333333333333\n",
      "lambda= 0.02783915156871406\n",
      "gamma= 0.0020680512593901908\n",
      "omega at stationary point\n",
      "omega= ['29.83%', '33.69%', '21.56%', '14.91%']\n"
     ]
    }
   ],
   "source": [
    "#call functions\n",
    "print('Q1, part b')\n",
    "portfolio=portfolio_optimisation(miu,stdev,R2,m)\n",
    "print('sigma=',portfolio.sigma())\n",
    "print('I=',portfolio.I())\n",
    "print('A=',portfolio.A())\n",
    "print('B=',portfolio.B())\n",
    "print('C=',portfolio.C())\n",
    "print('lambda=',portfolio.lam())\n",
    "print('gamma=',portfolio.gamma())\n",
    "print('omega=',['{:.2%}'.format(value) for value in portfolio.omega()])"
   ]
  },
  {
   "cell_type": "code",
   "execution_count": 10,
   "metadata": {},
   "outputs": [],
   "source": [
    "#_______________________________________part c_____________________________________________"
   ]
  },
  {
   "cell_type": "code",
   "execution_count": 11,
   "metadata": {},
   "outputs": [],
   "source": [
    "#input\n",
    "miu=np.array([0.08,0.10,0.10,0.14])\n",
    "stdev=np.array([0.12,0.12,0.15,0.20])\n",
    "R=np.ones((4,4))\n",
    "m=0.1"
   ]
  },
  {
   "cell_type": "code",
   "execution_count": 12,
   "metadata": {},
   "outputs": [
    {
     "name": "stdout",
     "output_type": "stream",
     "text": [
      "Q1, part c\n",
      "sigma= [[0.0144 0.0144 0.018  0.024 ]\n",
      " [0.0144 0.0144 0.018  0.024 ]\n",
      " [0.018  0.018  0.0225 0.03  ]\n",
      " [0.024  0.024  0.03   0.04  ]]\n",
      "I= [1. 1. 1. 1.]\n"
     ]
    },
    {
     "ename": "LinAlgError",
     "evalue": "Singular matrix",
     "output_type": "error",
     "traceback": [
      "\u001b[1;31m---------------------------------------------------------------------------\u001b[0m",
      "\u001b[1;31mLinAlgError\u001b[0m                               Traceback (most recent call last)",
      "\u001b[1;32m<ipython-input-12-f592751da127>\u001b[0m in \u001b[0;36m<module>\u001b[1;34m\u001b[0m\n\u001b[0;32m      4\u001b[0m \u001b[0mprint\u001b[0m\u001b[1;33m(\u001b[0m\u001b[1;34m'sigma='\u001b[0m\u001b[1;33m,\u001b[0m\u001b[0mportfolio\u001b[0m\u001b[1;33m.\u001b[0m\u001b[0msigma\u001b[0m\u001b[1;33m(\u001b[0m\u001b[1;33m)\u001b[0m\u001b[1;33m)\u001b[0m\u001b[1;33m\u001b[0m\u001b[1;33m\u001b[0m\u001b[0m\n\u001b[0;32m      5\u001b[0m \u001b[0mprint\u001b[0m\u001b[1;33m(\u001b[0m\u001b[1;34m'I='\u001b[0m\u001b[1;33m,\u001b[0m\u001b[0mportfolio\u001b[0m\u001b[1;33m.\u001b[0m\u001b[0mI\u001b[0m\u001b[1;33m(\u001b[0m\u001b[1;33m)\u001b[0m\u001b[1;33m)\u001b[0m\u001b[1;33m\u001b[0m\u001b[1;33m\u001b[0m\u001b[0m\n\u001b[1;32m----> 6\u001b[1;33m \u001b[0mprint\u001b[0m\u001b[1;33m(\u001b[0m\u001b[1;34m'A='\u001b[0m\u001b[1;33m,\u001b[0m\u001b[0mportfolio\u001b[0m\u001b[1;33m.\u001b[0m\u001b[0mA\u001b[0m\u001b[1;33m(\u001b[0m\u001b[1;33m)\u001b[0m\u001b[1;33m)\u001b[0m\u001b[1;33m\u001b[0m\u001b[1;33m\u001b[0m\u001b[0m\n\u001b[0m\u001b[0;32m      7\u001b[0m \u001b[0mprint\u001b[0m\u001b[1;33m(\u001b[0m\u001b[1;34m'B='\u001b[0m\u001b[1;33m,\u001b[0m\u001b[0mportfolio\u001b[0m\u001b[1;33m.\u001b[0m\u001b[0mB\u001b[0m\u001b[1;33m(\u001b[0m\u001b[1;33m)\u001b[0m\u001b[1;33m)\u001b[0m\u001b[1;33m\u001b[0m\u001b[1;33m\u001b[0m\u001b[0m\n\u001b[0;32m      8\u001b[0m \u001b[0mprint\u001b[0m\u001b[1;33m(\u001b[0m\u001b[1;34m'C='\u001b[0m\u001b[1;33m,\u001b[0m\u001b[0mportfolio\u001b[0m\u001b[1;33m.\u001b[0m\u001b[0mC\u001b[0m\u001b[1;33m(\u001b[0m\u001b[1;33m)\u001b[0m\u001b[1;33m)\u001b[0m\u001b[1;33m\u001b[0m\u001b[1;33m\u001b[0m\u001b[0m\n",
      "\u001b[1;32m<ipython-input-3-1f2f25df2148>\u001b[0m in \u001b[0;36mA\u001b[1;34m(self)\u001b[0m\n\u001b[0;32m     17\u001b[0m \u001b[1;33m\u001b[0m\u001b[0m\n\u001b[0;32m     18\u001b[0m     \u001b[1;32mdef\u001b[0m \u001b[0mA\u001b[0m\u001b[1;33m(\u001b[0m\u001b[0mself\u001b[0m\u001b[1;33m)\u001b[0m\u001b[1;33m:\u001b[0m\u001b[1;33m\u001b[0m\u001b[1;33m\u001b[0m\u001b[0m\n\u001b[1;32m---> 19\u001b[1;33m         \u001b[0mA\u001b[0m\u001b[1;33m=\u001b[0m\u001b[0mnp\u001b[0m\u001b[1;33m.\u001b[0m\u001b[0mdot\u001b[0m\u001b[1;33m(\u001b[0m\u001b[1;33m(\u001b[0m\u001b[0mnp\u001b[0m\u001b[1;33m.\u001b[0m\u001b[0mdot\u001b[0m\u001b[1;33m(\u001b[0m\u001b[0mself\u001b[0m\u001b[1;33m.\u001b[0m\u001b[0mI\u001b[0m\u001b[1;33m(\u001b[0m\u001b[1;33m)\u001b[0m\u001b[1;33m.\u001b[0m\u001b[0mT\u001b[0m\u001b[1;33m,\u001b[0m\u001b[0minv\u001b[0m\u001b[1;33m(\u001b[0m\u001b[0mself\u001b[0m\u001b[1;33m.\u001b[0m\u001b[0msigma\u001b[0m\u001b[1;33m(\u001b[0m\u001b[1;33m)\u001b[0m\u001b[1;33m)\u001b[0m\u001b[1;33m)\u001b[0m\u001b[1;33m)\u001b[0m\u001b[1;33m,\u001b[0m\u001b[0mself\u001b[0m\u001b[1;33m.\u001b[0m\u001b[0mI\u001b[0m\u001b[1;33m(\u001b[0m\u001b[1;33m)\u001b[0m\u001b[1;33m)\u001b[0m\u001b[1;33m\u001b[0m\u001b[1;33m\u001b[0m\u001b[0m\n\u001b[0m\u001b[0;32m     20\u001b[0m         \u001b[1;32mreturn\u001b[0m \u001b[0mA\u001b[0m\u001b[1;33m\u001b[0m\u001b[1;33m\u001b[0m\u001b[0m\n\u001b[0;32m     21\u001b[0m \u001b[1;33m\u001b[0m\u001b[0m\n",
      "\u001b[1;32mC:\\Software\\Anaconda3\\lib\\site-packages\\numpy\\linalg\\linalg.py\u001b[0m in \u001b[0;36minv\u001b[1;34m(a)\u001b[0m\n\u001b[0;32m    549\u001b[0m     \u001b[0msignature\u001b[0m \u001b[1;33m=\u001b[0m \u001b[1;34m'D->D'\u001b[0m \u001b[1;32mif\u001b[0m \u001b[0misComplexType\u001b[0m\u001b[1;33m(\u001b[0m\u001b[0mt\u001b[0m\u001b[1;33m)\u001b[0m \u001b[1;32melse\u001b[0m \u001b[1;34m'd->d'\u001b[0m\u001b[1;33m\u001b[0m\u001b[1;33m\u001b[0m\u001b[0m\n\u001b[0;32m    550\u001b[0m     \u001b[0mextobj\u001b[0m \u001b[1;33m=\u001b[0m \u001b[0mget_linalg_error_extobj\u001b[0m\u001b[1;33m(\u001b[0m\u001b[0m_raise_linalgerror_singular\u001b[0m\u001b[1;33m)\u001b[0m\u001b[1;33m\u001b[0m\u001b[1;33m\u001b[0m\u001b[0m\n\u001b[1;32m--> 551\u001b[1;33m     \u001b[0mainv\u001b[0m \u001b[1;33m=\u001b[0m \u001b[0m_umath_linalg\u001b[0m\u001b[1;33m.\u001b[0m\u001b[0minv\u001b[0m\u001b[1;33m(\u001b[0m\u001b[0ma\u001b[0m\u001b[1;33m,\u001b[0m \u001b[0msignature\u001b[0m\u001b[1;33m=\u001b[0m\u001b[0msignature\u001b[0m\u001b[1;33m,\u001b[0m \u001b[0mextobj\u001b[0m\u001b[1;33m=\u001b[0m\u001b[0mextobj\u001b[0m\u001b[1;33m)\u001b[0m\u001b[1;33m\u001b[0m\u001b[1;33m\u001b[0m\u001b[0m\n\u001b[0m\u001b[0;32m    552\u001b[0m     \u001b[1;32mreturn\u001b[0m \u001b[0mwrap\u001b[0m\u001b[1;33m(\u001b[0m\u001b[0mainv\u001b[0m\u001b[1;33m.\u001b[0m\u001b[0mastype\u001b[0m\u001b[1;33m(\u001b[0m\u001b[0mresult_t\u001b[0m\u001b[1;33m,\u001b[0m \u001b[0mcopy\u001b[0m\u001b[1;33m=\u001b[0m\u001b[1;32mFalse\u001b[0m\u001b[1;33m)\u001b[0m\u001b[1;33m)\u001b[0m\u001b[1;33m\u001b[0m\u001b[1;33m\u001b[0m\u001b[0m\n\u001b[0;32m    553\u001b[0m \u001b[1;33m\u001b[0m\u001b[0m\n",
      "\u001b[1;32mC:\\Software\\Anaconda3\\lib\\site-packages\\numpy\\linalg\\linalg.py\u001b[0m in \u001b[0;36m_raise_linalgerror_singular\u001b[1;34m(err, flag)\u001b[0m\n\u001b[0;32m     95\u001b[0m \u001b[1;33m\u001b[0m\u001b[0m\n\u001b[0;32m     96\u001b[0m \u001b[1;32mdef\u001b[0m \u001b[0m_raise_linalgerror_singular\u001b[0m\u001b[1;33m(\u001b[0m\u001b[0merr\u001b[0m\u001b[1;33m,\u001b[0m \u001b[0mflag\u001b[0m\u001b[1;33m)\u001b[0m\u001b[1;33m:\u001b[0m\u001b[1;33m\u001b[0m\u001b[1;33m\u001b[0m\u001b[0m\n\u001b[1;32m---> 97\u001b[1;33m     \u001b[1;32mraise\u001b[0m \u001b[0mLinAlgError\u001b[0m\u001b[1;33m(\u001b[0m\u001b[1;34m\"Singular matrix\"\u001b[0m\u001b[1;33m)\u001b[0m\u001b[1;33m\u001b[0m\u001b[1;33m\u001b[0m\u001b[0m\n\u001b[0m\u001b[0;32m     98\u001b[0m \u001b[1;33m\u001b[0m\u001b[0m\n\u001b[0;32m     99\u001b[0m \u001b[1;32mdef\u001b[0m \u001b[0m_raise_linalgerror_nonposdef\u001b[0m\u001b[1;33m(\u001b[0m\u001b[0merr\u001b[0m\u001b[1;33m,\u001b[0m \u001b[0mflag\u001b[0m\u001b[1;33m)\u001b[0m\u001b[1;33m:\u001b[0m\u001b[1;33m\u001b[0m\u001b[1;33m\u001b[0m\u001b[0m\n",
      "\u001b[1;31mLinAlgError\u001b[0m: Singular matrix"
     ]
    }
   ],
   "source": [
    "#call functions\n",
    "print('Q1, part c')\n",
    "portfolio=portfolio_optimisation(miu,stdev,R,m)\n",
    "print('sigma=',portfolio.sigma())\n",
    "print('I=',portfolio.I())\n",
    "print('A=',portfolio.A())\n",
    "print('B=',portfolio.B())\n",
    "print('C=',portfolio.C())\n",
    "print('lambda=',portfolio.lam())\n",
    "print('gamma=',portfolio.gamma())\n",
    "print('omega=',['{:.2%}'.format(value) for value in portfolio.omega()])"
   ]
  },
  {
   "cell_type": "code",
   "execution_count": 15,
   "metadata": {},
   "outputs": [
    {
     "name": "stdout",
     "output_type": "stream",
     "text": [
      "R= [[1. 1. 1. 1.]\n",
      " [1. 1. 1. 1.]\n",
      " [1. 1. 1. 1.]\n",
      " [1. 1. 1. 1.]]\n",
      "sigma= [[0.0144 0.0144 0.018  0.024 ]\n",
      " [0.0144 0.0144 0.018  0.024 ]\n",
      " [0.018  0.018  0.0225 0.03  ]\n",
      " [0.024  0.024  0.03   0.04  ]]\n",
      "determinant of sigma= 0.0\n"
     ]
    }
   ],
   "source": [
    "print('R=',R)\n",
    "print('sigma=',portfolio.sigma())\n",
    "print('determinant of sigma=',np.linalg.det(portfolio.sigma()))"
   ]
  },
  {
   "cell_type": "code",
   "execution_count": 16,
   "metadata": {},
   "outputs": [],
   "source": [
    "#Mathematically this R is a singular matrix. As sigma = SRS, a singular matrix R will make sigma a singular matrix too. \n",
    "#As singular matrix doesn't have its inverse and the values of A, B, C depend on sigma inverse, we could not calculate the values of A, B , C.\n",
    "#Hence we could not calcute lambda, gamma, and omega based on this this R. "
   ]
  },
  {
   "cell_type": "code",
   "execution_count": 17,
   "metadata": {},
   "outputs": [],
   "source": [
    "#Economically speaking, R represents the correlation efficients of the returns of assets. \n",
    "#This R means all the returns of assets are perfectly linearly correlated. Hence we could short with no restrictions. \n",
    "#We could design a portfolio producing any arbitrary level of return m with zero volatility. \n",
    "#Of course, this would not happen in practise as this is a clear case of an arbitrage trade. "
   ]
  },
  {
   "cell_type": "code",
   "execution_count": null,
   "metadata": {},
   "outputs": [],
   "source": []
  },
  {
   "cell_type": "code",
   "execution_count": null,
   "metadata": {},
   "outputs": [],
   "source": []
  },
  {
   "cell_type": "code",
   "execution_count": null,
   "metadata": {},
   "outputs": [],
   "source": []
  },
  {
   "cell_type": "code",
   "execution_count": null,
   "metadata": {},
   "outputs": [],
   "source": []
  },
  {
   "cell_type": "code",
   "execution_count": null,
   "metadata": {},
   "outputs": [],
   "source": []
  },
  {
   "cell_type": "code",
   "execution_count": null,
   "metadata": {},
   "outputs": [],
   "source": []
  },
  {
   "cell_type": "code",
   "execution_count": null,
   "metadata": {},
   "outputs": [],
   "source": []
  },
  {
   "cell_type": "code",
   "execution_count": null,
   "metadata": {},
   "outputs": [],
   "source": []
  },
  {
   "cell_type": "code",
   "execution_count": null,
   "metadata": {},
   "outputs": [],
   "source": []
  },
  {
   "cell_type": "code",
   "execution_count": null,
   "metadata": {},
   "outputs": [],
   "source": []
  },
  {
   "cell_type": "code",
   "execution_count": null,
   "metadata": {},
   "outputs": [],
   "source": []
  },
  {
   "cell_type": "code",
   "execution_count": null,
   "metadata": {},
   "outputs": [],
   "source": []
  }
 ],
 "metadata": {
  "kernelspec": {
   "display_name": "Python 3",
   "language": "python",
   "name": "python3"
  },
  "language_info": {
   "codemirror_mode": {
    "name": "ipython",
    "version": 3
   },
   "file_extension": ".py",
   "mimetype": "text/x-python",
   "name": "python",
   "nbconvert_exporter": "python",
   "pygments_lexer": "ipython3",
   "version": "3.7.3"
  }
 },
 "nbformat": 4,
 "nbformat_minor": 2
}
