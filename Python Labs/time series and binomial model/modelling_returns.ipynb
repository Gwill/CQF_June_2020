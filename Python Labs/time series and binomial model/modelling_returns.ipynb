{
 "cells": [
  {
   "cell_type": "code",
   "execution_count": 7,
   "metadata": {},
   "outputs": [],
   "source": [
    "# Import Pandas, Numpy and Scipy\n",
    "import pandas as pd\n",
    "import numpy as np\n",
    "from scipy.stats import norm\n",
    "\n",
    "# Import matplotlib for visualization\n",
    "import matplotlib.pyplot as plt\n",
    "from matplotlib.pyplot import rcParams\n",
    "\n",
    "# Set the runtime configuration (rc)\n",
    "plt.style.use('dark_background')\n",
    "\n",
    "rcParams['figure.figsize'] = 8, 6\n",
    "rcParams['font.size'] = 12\n",
    "rcParams['legend.fontsize'] = 'medium'\n",
    "rcParams['figure.titlesize'] = 'medium'"
   ]
  },
  {
   "cell_type": "code",
   "execution_count": 8,
   "metadata": {},
   "outputs": [
    {
     "data": {
      "text/html": [
       "<div>\n",
       "<style scoped>\n",
       "    .dataframe tbody tr th:only-of-type {\n",
       "        vertical-align: middle;\n",
       "    }\n",
       "\n",
       "    .dataframe tbody tr th {\n",
       "        vertical-align: top;\n",
       "    }\n",
       "\n",
       "    .dataframe thead th {\n",
       "        text-align: right;\n",
       "    }\n",
       "</style>\n",
       "<table border=\"1\" class=\"dataframe\">\n",
       "  <thead>\n",
       "    <tr style=\"text-align: right;\">\n",
       "      <th></th>\n",
       "      <th>Open</th>\n",
       "      <th>High</th>\n",
       "      <th>Low</th>\n",
       "      <th>Close</th>\n",
       "      <th>Adj Close</th>\n",
       "      <th>Volume</th>\n",
       "    </tr>\n",
       "    <tr>\n",
       "      <th>Date</th>\n",
       "      <th></th>\n",
       "      <th></th>\n",
       "      <th></th>\n",
       "      <th></th>\n",
       "      <th></th>\n",
       "      <th></th>\n",
       "    </tr>\n",
       "  </thead>\n",
       "  <tbody>\n",
       "    <tr>\n",
       "      <th>1927-12-30</th>\n",
       "      <td>17.660000</td>\n",
       "      <td>17.660000</td>\n",
       "      <td>17.660000</td>\n",
       "      <td>17.660000</td>\n",
       "      <td>17.660000</td>\n",
       "      <td>0</td>\n",
       "    </tr>\n",
       "    <tr>\n",
       "      <th>1928-01-03</th>\n",
       "      <td>17.760000</td>\n",
       "      <td>17.760000</td>\n",
       "      <td>17.760000</td>\n",
       "      <td>17.760000</td>\n",
       "      <td>17.760000</td>\n",
       "      <td>0</td>\n",
       "    </tr>\n",
       "    <tr>\n",
       "      <th>1928-01-04</th>\n",
       "      <td>17.719999</td>\n",
       "      <td>17.719999</td>\n",
       "      <td>17.719999</td>\n",
       "      <td>17.719999</td>\n",
       "      <td>17.719999</td>\n",
       "      <td>0</td>\n",
       "    </tr>\n",
       "    <tr>\n",
       "      <th>1928-01-05</th>\n",
       "      <td>17.549999</td>\n",
       "      <td>17.549999</td>\n",
       "      <td>17.549999</td>\n",
       "      <td>17.549999</td>\n",
       "      <td>17.549999</td>\n",
       "      <td>0</td>\n",
       "    </tr>\n",
       "    <tr>\n",
       "      <th>1928-01-06</th>\n",
       "      <td>17.660000</td>\n",
       "      <td>17.660000</td>\n",
       "      <td>17.660000</td>\n",
       "      <td>17.660000</td>\n",
       "      <td>17.660000</td>\n",
       "      <td>0</td>\n",
       "    </tr>\n",
       "  </tbody>\n",
       "</table>\n",
       "</div>"
      ],
      "text/plain": [
       "                 Open       High        Low      Close  Adj Close  Volume\n",
       "Date                                                                     \n",
       "1927-12-30  17.660000  17.660000  17.660000  17.660000  17.660000       0\n",
       "1928-01-03  17.760000  17.760000  17.760000  17.760000  17.760000       0\n",
       "1928-01-04  17.719999  17.719999  17.719999  17.719999  17.719999       0\n",
       "1928-01-05  17.549999  17.549999  17.549999  17.549999  17.549999       0\n",
       "1928-01-06  17.660000  17.660000  17.660000  17.660000  17.660000       0"
      ]
     },
     "execution_count": 8,
     "metadata": {},
     "output_type": "execute_result"
    }
   ],
   "source": [
    "# Load the CSV file\n",
    "spx = pd.read_excel('SPX.xlsx', index_col=0, parse_dates=True, dayfirst=True)  \n",
    "\n",
    "# Output first five values\n",
    "spx.head()"
   ]
  },
  {
   "cell_type": "code",
   "execution_count": 9,
   "metadata": {},
   "outputs": [
    {
     "data": {
      "text/plain": [
       "DatetimeIndex(['1927-12-30', '1928-01-03', '1928-01-04', '1928-01-05',\n",
       "               '1928-01-06', '1928-01-09', '1928-01-10', '1928-01-11',\n",
       "               '1928-01-12', '1928-01-13',\n",
       "               ...\n",
       "               '2019-12-30', '2019-12-31', '2020-01-02', '2020-01-03',\n",
       "               '2020-01-06', '2020-01-07', '2020-01-08', '2020-01-09',\n",
       "               '2020-01-10', '2020-01-13'],\n",
       "              dtype='datetime64[ns]', name='Date', length=23117, freq=None)"
      ]
     },
     "execution_count": 9,
     "metadata": {},
     "output_type": "execute_result"
    }
   ],
   "source": [
    "# Make sure the index datatype is in a proper datetime format\n",
    "spx.index"
   ]
  },
  {
   "cell_type": "code",
   "execution_count": 10,
   "metadata": {},
   "outputs": [
    {
     "data": {
      "text/plain": [
       "[<matplotlib.lines.Line2D at 0x1af2efc2240>,\n",
       " <matplotlib.lines.Line2D at 0x1af2f164eb8>,\n",
       " <matplotlib.lines.Line2D at 0x1af2f164240>,\n",
       " <matplotlib.lines.Line2D at 0x1af2f1645f8>,\n",
       " <matplotlib.lines.Line2D at 0x1af2f18b978>,\n",
       " <matplotlib.lines.Line2D at 0x1af2f18b748>]"
      ]
     },
     "execution_count": 10,
     "metadata": {},
     "output_type": "execute_result"
    },
    {
     "data": {
      "image/png": "[encoded data removed]",
      "text/plain": [
       "<Figure size 576x432 with 1 Axes>"
      ]
     },
     "metadata": {},
     "output_type": "display_data"
    }
   ],
   "source": [
    "# Verify the datetime format\n",
    "plt.plot(spx.index[-250:],spx[-250:])"
   ]
  },
  {
   "cell_type": "code",
   "execution_count": 11,
   "metadata": {},
   "outputs": [
    {
     "data": {
      "text/plain": [
       "Text(0.5, 0, 'Year')"
      ]
     },
     "execution_count": 11,
     "metadata": {},
     "output_type": "execute_result"
    },
    {
     "data": {
      "image/png": "[encoded data removed]",
      "text/plain": [
       "<Figure size 576x432 with 1 Axes>"
      ]
     },
     "metadata": {},
     "output_type": "display_data"
    }
   ],
   "source": [
    "# Slice the DataFrame to get values from 1950\n",
    "spx = spx['1950':]\n",
    "\n",
    "# Visualize the plot to verify the data\n",
    "plt.plot(spx.index, spx['Adj Close'], color='orange')\n",
    "plt.title('SPX : 1950 - 2020')\n",
    "plt.ylabel('Price $')\n",
    "plt.xlabel('Year')"
   ]
  },
  {
   "cell_type": "code",
   "execution_count": 13,
   "metadata": {},
   "outputs": [
    {
     "data": {
      "text/html": [
       "<div>\n",
       "<style scoped>\n",
       "    .dataframe tbody tr th:only-of-type {\n",
       "        vertical-align: middle;\n",
       "    }\n",
       "\n",
       "    .dataframe tbody tr th {\n",
       "        vertical-align: top;\n",
       "    }\n",
       "\n",
       "    .dataframe thead th {\n",
       "        text-align: right;\n",
       "    }\n",
       "</style>\n",
       "<table border=\"1\" class=\"dataframe\">\n",
       "  <thead>\n",
       "    <tr style=\"text-align: right;\">\n",
       "      <th></th>\n",
       "      <th>Open</th>\n",
       "      <th>High</th>\n",
       "      <th>Low</th>\n",
       "      <th>Close</th>\n",
       "      <th>Adj Close</th>\n",
       "      <th>Volume</th>\n",
       "      <th>Return</th>\n",
       "    </tr>\n",
       "    <tr>\n",
       "      <th>Date</th>\n",
       "      <th></th>\n",
       "      <th></th>\n",
       "      <th></th>\n",
       "      <th></th>\n",
       "      <th></th>\n",
       "      <th></th>\n",
       "      <th></th>\n",
       "    </tr>\n",
       "  </thead>\n",
       "  <tbody>\n",
       "    <tr>\n",
       "      <th>1950-01-03</th>\n",
       "      <td>16.66</td>\n",
       "      <td>16.66</td>\n",
       "      <td>16.66</td>\n",
       "      <td>16.66</td>\n",
       "      <td>16.66</td>\n",
       "      <td>1260000</td>\n",
       "      <td>0.000000</td>\n",
       "    </tr>\n",
       "    <tr>\n",
       "      <th>1950-01-04</th>\n",
       "      <td>16.85</td>\n",
       "      <td>16.85</td>\n",
       "      <td>16.85</td>\n",
       "      <td>16.85</td>\n",
       "      <td>16.85</td>\n",
       "      <td>1890000</td>\n",
       "      <td>0.011405</td>\n",
       "    </tr>\n",
       "    <tr>\n",
       "      <th>1950-01-05</th>\n",
       "      <td>16.93</td>\n",
       "      <td>16.93</td>\n",
       "      <td>16.93</td>\n",
       "      <td>16.93</td>\n",
       "      <td>16.93</td>\n",
       "      <td>2550000</td>\n",
       "      <td>0.004748</td>\n",
       "    </tr>\n",
       "    <tr>\n",
       "      <th>1950-01-06</th>\n",
       "      <td>16.98</td>\n",
       "      <td>16.98</td>\n",
       "      <td>16.98</td>\n",
       "      <td>16.98</td>\n",
       "      <td>16.98</td>\n",
       "      <td>2010000</td>\n",
       "      <td>0.002953</td>\n",
       "    </tr>\n",
       "    <tr>\n",
       "      <th>1950-01-09</th>\n",
       "      <td>17.08</td>\n",
       "      <td>17.08</td>\n",
       "      <td>17.08</td>\n",
       "      <td>17.08</td>\n",
       "      <td>17.08</td>\n",
       "      <td>2520000</td>\n",
       "      <td>0.005889</td>\n",
       "    </tr>\n",
       "  </tbody>\n",
       "</table>\n",
       "</div>"
      ],
      "text/plain": [
       "             Open   High    Low  Close  Adj Close   Volume    Return\n",
       "Date                                                                \n",
       "1950-01-03  16.66  16.66  16.66  16.66      16.66  1260000  0.000000\n",
       "1950-01-04  16.85  16.85  16.85  16.85      16.85  1890000  0.011405\n",
       "1950-01-05  16.93  16.93  16.93  16.93      16.93  2550000  0.004748\n",
       "1950-01-06  16.98  16.98  16.98  16.98      16.98  2010000  0.002953\n",
       "1950-01-09  17.08  17.08  17.08  17.08      17.08  2520000  0.005889"
      ]
     },
     "execution_count": 13,
     "metadata": {},
     "output_type": "execute_result"
    }
   ],
   "source": [
    "# Calculate returns and add it to existing DataFrame as a column\n",
    "spx['Return'] = spx['Adj Close'].pct_change().fillna(0)\n",
    "\n",
    "# Get first 5 rows\n",
    "spx.head()"
   ]
  },
  {
   "cell_type": "code",
   "execution_count": 14,
   "metadata": {},
   "outputs": [
    {
     "data": {
      "text/plain": [
       "Date\n",
       "1950-01-03    0.000000\n",
       "1950-01-04    0.011405\n",
       "1950-01-05    0.004748\n",
       "1950-01-06    0.002953\n",
       "1950-01-09    0.005889\n",
       "1950-01-10   -0.002927\n",
       "1950-01-11    0.003523\n",
       "1950-01-12   -0.019310\n",
       "1950-01-13   -0.005370\n",
       "1950-01-16    0.002999\n",
       "1950-01-17    0.008373\n",
       "1950-01-18   -0.000593\n",
       "1950-01-19    0.001187\n",
       "1950-01-20    0.001778\n",
       "1950-01-23    0.001183\n",
       "1950-01-24   -0.003546\n",
       "1950-01-25   -0.007117\n",
       "1950-01-26   -0.000597\n",
       "1950-01-27    0.005380\n",
       "1950-01-30    0.011891\n",
       "1950-01-31    0.001763\n",
       "1950-02-01    0.000000\n",
       "1950-02-02    0.010557\n",
       "1950-02-03    0.003482\n",
       "1950-02-06    0.001735\n",
       "1950-02-07   -0.005196\n",
       "1950-02-08   -0.001161\n",
       "1950-02-09    0.004068\n",
       "1950-02-10   -0.002315\n",
       "1950-02-14   -0.010441\n",
       "                ...   \n",
       "2019-11-29   -0.004011\n",
       "2019-12-02   -0.008631\n",
       "2019-12-03   -0.006638\n",
       "2019-12-04    0.006324\n",
       "2019-12-05    0.001500\n",
       "2019-12-06    0.009136\n",
       "2019-12-09   -0.003163\n",
       "2019-12-10   -0.001097\n",
       "2019-12-11    0.002908\n",
       "2019-12-12    0.008575\n",
       "2019-12-13    0.000073\n",
       "2019-12-16    0.007148\n",
       "2019-12-17    0.000335\n",
       "2019-12-18   -0.000432\n",
       "2019-12-19    0.004459\n",
       "2019-12-20    0.004945\n",
       "2019-12-23    0.000866\n",
       "2019-12-24   -0.000195\n",
       "2019-12-26    0.005128\n",
       "2019-12-27    0.000034\n",
       "2019-12-30   -0.005781\n",
       "2019-12-31    0.002946\n",
       "2020-01-02    0.008379\n",
       "2020-01-03   -0.007060\n",
       "2020-01-06    0.003533\n",
       "2020-01-07   -0.002803\n",
       "2020-01-08    0.004902\n",
       "2020-01-09    0.006655\n",
       "2020-01-10   -0.002855\n",
       "2020-01-13    0.006976\n",
       "Name: Return, Length: 17621, dtype: float64"
      ]
     },
     "execution_count": 14,
     "metadata": {},
     "output_type": "execute_result"
    }
   ],
   "source": [
    "spx['Return']"
   ]
  },
  {
   "cell_type": "code",
   "execution_count": 15,
   "metadata": {},
   "outputs": [
    {
     "name": "stdout",
     "output_type": "stream",
     "text": [
      "Mean 0.000346, Sigma 0.009600\n"
     ]
    }
   ],
   "source": [
    "# Calculate mean and sigma\n",
    "mu = np.mean(spx['Return'])\n",
    "sigma = np.std(spx['Return'])\n",
    "\n",
    "print(f'Mean {mu:.6f}, Sigma {sigma:.6f}')"
   ]
  },
  {
   "cell_type": "code",
   "execution_count": 16,
   "metadata": {},
   "outputs": [
    {
     "data": {
      "text/html": [
       "<div>\n",
       "<style scoped>\n",
       "    .dataframe tbody tr th:only-of-type {\n",
       "        vertical-align: middle;\n",
       "    }\n",
       "\n",
       "    .dataframe tbody tr th {\n",
       "        vertical-align: top;\n",
       "    }\n",
       "\n",
       "    .dataframe thead th {\n",
       "        text-align: right;\n",
       "    }\n",
       "</style>\n",
       "<table border=\"1\" class=\"dataframe\">\n",
       "  <thead>\n",
       "    <tr style=\"text-align: right;\">\n",
       "      <th></th>\n",
       "      <th>Open</th>\n",
       "      <th>High</th>\n",
       "      <th>Low</th>\n",
       "      <th>Close</th>\n",
       "      <th>Adj Close</th>\n",
       "      <th>Volume</th>\n",
       "      <th>Return</th>\n",
       "      <th>Scaled_Return</th>\n",
       "    </tr>\n",
       "    <tr>\n",
       "      <th>Date</th>\n",
       "      <th></th>\n",
       "      <th></th>\n",
       "      <th></th>\n",
       "      <th></th>\n",
       "      <th></th>\n",
       "      <th></th>\n",
       "      <th></th>\n",
       "      <th></th>\n",
       "    </tr>\n",
       "  </thead>\n",
       "  <tbody>\n",
       "    <tr>\n",
       "      <th>1950-01-03</th>\n",
       "      <td>16.66</td>\n",
       "      <td>16.66</td>\n",
       "      <td>16.66</td>\n",
       "      <td>16.66</td>\n",
       "      <td>16.66</td>\n",
       "      <td>1260000</td>\n",
       "      <td>0.000000</td>\n",
       "      <td>-0.036070</td>\n",
       "    </tr>\n",
       "    <tr>\n",
       "      <th>1950-01-04</th>\n",
       "      <td>16.85</td>\n",
       "      <td>16.85</td>\n",
       "      <td>16.85</td>\n",
       "      <td>16.85</td>\n",
       "      <td>16.85</td>\n",
       "      <td>1890000</td>\n",
       "      <td>0.011405</td>\n",
       "      <td>1.151844</td>\n",
       "    </tr>\n",
       "    <tr>\n",
       "      <th>1950-01-05</th>\n",
       "      <td>16.93</td>\n",
       "      <td>16.93</td>\n",
       "      <td>16.93</td>\n",
       "      <td>16.93</td>\n",
       "      <td>16.93</td>\n",
       "      <td>2550000</td>\n",
       "      <td>0.004748</td>\n",
       "      <td>0.458465</td>\n",
       "    </tr>\n",
       "    <tr>\n",
       "      <th>1950-01-06</th>\n",
       "      <td>16.98</td>\n",
       "      <td>16.98</td>\n",
       "      <td>16.98</td>\n",
       "      <td>16.98</td>\n",
       "      <td>16.98</td>\n",
       "      <td>2010000</td>\n",
       "      <td>0.002953</td>\n",
       "      <td>0.271554</td>\n",
       "    </tr>\n",
       "    <tr>\n",
       "      <th>1950-01-09</th>\n",
       "      <td>17.08</td>\n",
       "      <td>17.08</td>\n",
       "      <td>17.08</td>\n",
       "      <td>17.08</td>\n",
       "      <td>17.08</td>\n",
       "      <td>2520000</td>\n",
       "      <td>0.005889</td>\n",
       "      <td>0.577366</td>\n",
       "    </tr>\n",
       "  </tbody>\n",
       "</table>\n",
       "</div>"
      ],
      "text/plain": [
       "             Open   High    Low  Close  Adj Close   Volume    Return  \\\n",
       "Date                                                                   \n",
       "1950-01-03  16.66  16.66  16.66  16.66      16.66  1260000  0.000000   \n",
       "1950-01-04  16.85  16.85  16.85  16.85      16.85  1890000  0.011405   \n",
       "1950-01-05  16.93  16.93  16.93  16.93      16.93  2550000  0.004748   \n",
       "1950-01-06  16.98  16.98  16.98  16.98      16.98  2010000  0.002953   \n",
       "1950-01-09  17.08  17.08  17.08  17.08      17.08  2520000  0.005889   \n",
       "\n",
       "            Scaled_Return  \n",
       "Date                       \n",
       "1950-01-03      -0.036070  \n",
       "1950-01-04       1.151844  \n",
       "1950-01-05       0.458465  \n",
       "1950-01-06       0.271554  \n",
       "1950-01-09       0.577366  "
      ]
     },
     "execution_count": 16,
     "metadata": {},
     "output_type": "execute_result"
    }
   ],
   "source": [
    "# Calculate the scaled return\n",
    "spx['Scaled_Return'] = spx['Return'].apply(lambda x: (x-mu)/sigma)\n",
    "\n",
    "# Check the output\n",
    "spx.head()"
   ]
  },
  {
   "cell_type": "code",
   "execution_count": 17,
   "metadata": {},
   "outputs": [
    {
     "name": "stdout",
     "output_type": "stream",
     "text": [
      "Minimum -21.354692, Maximum 12.025848\n"
     ]
    }
   ],
   "source": [
    "# Calculate minimum and maximum bin range\n",
    "sr_min = np.min(spx['Scaled_Return'])\n",
    "sr_max = np.max(spx['Scaled_Return'])\n",
    "\n",
    "print(f'Minimum {sr_min:.6f}, Maximum {sr_max:.6f}')"
   ]
  },
  {
   "cell_type": "code",
   "execution_count": 18,
   "metadata": {},
   "outputs": [
    {
     "data": {
      "image/png": "[encoded data removed]",
      "text/plain": [
       "<Figure size 576x432 with 1 Axes>"
      ]
     },
     "metadata": {},
     "output_type": "display_data"
    }
   ],
   "source": [
    "# Define bins\n",
    "x = np.linspace(sr_min, sr_max, 200)\n",
    "\n",
    "# Calculate normal probability density function\n",
    "y = (1/np.sqrt(2*np.pi)*np.exp(-0.5*x**2)) # can also use norm.pdf(x,0,1)\n",
    "\n",
    "# Plot histogram of scaled returns\n",
    "plt.hist(spx['Scaled_Return'], bins=200, density=True, color = 'blue', label = 'Empirical', alpha=1)\n",
    "\n",
    "# Plot norm pdf\n",
    "plt.plot(x, y, color = 'orange', label = 'Normal', alpha=1)\n",
    "\n",
    "# Set x and y axis limits\n",
    "plt.xlim(-4,4)\n",
    "plt.ylim(0,0.7)\n",
    "\n",
    "# Set title\n",
    "plt.title('Empirical vs Normal Distribution')\n",
    "\n",
    "# Set legends\n",
    "plt.legend();"
   ]
  },
  {
   "cell_type": "code",
   "execution_count": null,
   "metadata": {},
   "outputs": [],
   "source": []
  }
 ],
 "metadata": {
  "kernelspec": {
   "display_name": "Python 3",
   "language": "python",
   "name": "python3"
  },
  "language_info": {
   "codemirror_mode": {
    "name": "ipython",
    "version": 3
   },
   "file_extension": ".py",
   "mimetype": "text/x-python",
   "name": "python",
   "nbconvert_exporter": "python",
   "pygments_lexer": "ipython3",
   "version": "3.7.3"
  }
 },
 "nbformat": 4,
 "nbformat_minor": 2
}
