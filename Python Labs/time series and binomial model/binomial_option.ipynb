{
 "cells": [
  {
   "cell_type": "code",
   "execution_count": 3,
   "metadata": {},
   "outputs": [],
   "source": [
    "from numpy import *"
   ]
  },
  {
   "cell_type": "code",
   "execution_count": 30,
   "metadata": {},
   "outputs": [],
   "source": [
    "def binomial_option(spot, strike, rate, sigma, time, steps, call_option=True, US_option=False, output=0):\n",
    "    '''Function to price European/ American option based on binomial model. \n",
    "    \n",
    "    Parameters\n",
    "    --------------\n",
    "    spot              int or float       - spot price\n",
    "    strike            int or float       - strike price\n",
    "    rate              float              - discount interest rate\n",
    "    sigma             float              - volatility \n",
    "    time              int or float       - expiration time with unit of year\n",
    "    steps             int                - number of time steps\n",
    "    call_option       bool               - True: call option, False: call option\n",
    "    US_option         bool               - True: American option, False: European option\n",
    "    output            int                - 0: px, price path, 1: payoff, 2: V, option value, 3: d, delta\n",
    "    '''\n",
    "    # define option_flag\n",
    "    if call_option==True:\n",
    "        option_flag=1\n",
    "    else: \n",
    "        option_flag=-1\n",
    "    \n",
    "    # define US_flag\n",
    "    if US_option==True:\n",
    "        US_flag=1\n",
    "    else:\n",
    "        US_flag=0\n",
    "        \n",
    "    # define other intermediate parameters\n",
    "    time_step=time/steps\n",
    "    u=1+sigma*sqrt(time_step)\n",
    "    v=1-sigma*sqrt(time_step)\n",
    "    p=1/2+rate*sqrt(time_step)/(2*sigma)\n",
    "    df=1/(1+rate*time_step)\n",
    "    \n",
    "    # initial arrays\n",
    "    px=zeros((steps+1,steps+1))         #price path\n",
    "    payoff=zeros((steps+1,steps+1))     #payoff\n",
    "    d=zeros((steps+1,steps+1))          #hedging delta\n",
    "    V=zeros((steps+1,steps+1))          #option value\n",
    "    \n",
    "    # calculate the price path:px and the payoff of option:payoff \n",
    "    for j in range(steps+1):\n",
    "        for i in range(j+1):\n",
    "            px[i,j]=spot*power(u,j-i)*power(v,i)\n",
    "            payoff[i,j]=max(option_flag*(px[i,j]-strike),0)\n",
    "            \n",
    "    # calculate the hedging delta:d and the option value:V\n",
    "    for j in range(steps+1,0,-1):\n",
    "        for i in range(j):\n",
    "            if (j==steps+1):\n",
    "                d[i,j-1]=0\n",
    "                V[i,j-1]=payoff[i,j-1]\n",
    "            else:\n",
    "                d[i,j-1]=(V[i,j]-V[i+1,j])/(px[i,j]-px[i+1,j])\n",
    "                V[i,j-1]=max(df*(p*V[i,j]+(1-p)*V[i+1,j]),US_flag*payoff[i,j-1])\n",
    "    \n",
    "    # combine results\n",
    "    results = around(px,2), around(payoff,2), around(V,2), around(d,4)\n",
    "    \n",
    "    return results[output]\n",
    "              \n",
    "    "
   ]
  },
  {
   "cell_type": "code",
   "execution_count": 31,
   "metadata": {},
   "outputs": [
    {
     "data": {
      "text/plain": [
       "array([[100.  , 110.  , 121.  , 133.1 , 146.41],\n",
       "       [  0.  ,  90.  ,  99.  , 108.9 , 119.79],\n",
       "       [  0.  ,   0.  ,  81.  ,  89.1 ,  98.01],\n",
       "       [  0.  ,   0.  ,   0.  ,  72.9 ,  80.19],\n",
       "       [  0.  ,   0.  ,   0.  ,   0.  ,  65.61]])"
      ]
     },
     "execution_count": 31,
     "metadata": {},
     "output_type": "execute_result"
    }
   ],
   "source": [
    "# European call option test\n",
    "# Asset price\n",
    "px = binomial_option(100,100,0.05,0.2,1,4,output=0)\n",
    "px"
   ]
  },
  {
   "cell_type": "code",
   "execution_count": 32,
   "metadata": {},
   "outputs": [
    {
     "data": {
      "text/plain": [
       "array([[ 0.  , 10.  , 21.  , 33.1 , 46.41],\n",
       "       [ 0.  ,  0.  ,  0.  ,  8.9 , 19.79],\n",
       "       [ 0.  ,  0.  ,  0.  ,  0.  ,  0.  ],\n",
       "       [ 0.  ,  0.  ,  0.  ,  0.  ,  0.  ],\n",
       "       [ 0.  ,  0.  ,  0.  ,  0.  ,  0.  ]])"
      ]
     },
     "execution_count": 32,
     "metadata": {},
     "output_type": "execute_result"
    }
   ],
   "source": [
    "# Intrinsic value of call options: payoff\n",
    "payoff=binomial_option(100,100,0.05,0.2,1,4,output=1)\n",
    "payoff"
   ]
  },
  {
   "cell_type": "code",
   "execution_count": 33,
   "metadata": {},
   "outputs": [
    {
     "data": {
      "text/plain": [
       "array([[10.29, 15.88, 23.83, 34.33, 46.41],\n",
       "       [ 0.  ,  3.39,  6.11, 10.99, 19.79],\n",
       "       [ 0.  ,  0.  ,  0.  ,  0.  ,  0.  ],\n",
       "       [ 0.  ,  0.  ,  0.  ,  0.  ,  0.  ],\n",
       "       [ 0.  ,  0.  ,  0.  ,  0.  ,  0.  ]])"
      ]
     },
     "execution_count": 33,
     "metadata": {},
     "output_type": "execute_result"
    }
   ],
   "source": [
    "# Option price \n",
    "opx=binomial_option(100,100,0.05,0.2,1,4,output=2)\n",
    "opx"
   ]
  },
  {
   "cell_type": "code",
   "execution_count": 34,
   "metadata": {},
   "outputs": [
    {
     "data": {
      "text/plain": [
       "array([[0.6241, 0.8053, 0.9645, 1.    , 0.    ],\n",
       "       [0.    , 0.3393, 0.5553, 0.9086, 0.    ],\n",
       "       [0.    , 0.    , 0.    , 0.    , 0.    ],\n",
       "       [0.    , 0.    , 0.    , 0.    , 0.    ],\n",
       "       [0.    , 0.    , 0.    , 0.    , 0.    ]])"
      ]
     },
     "execution_count": 34,
     "metadata": {},
     "output_type": "execute_result"
    }
   ],
   "source": [
    "# Option delta\n",
    "delta=binomial_option(100,100,0.05,0.2,1,4,output=3)\n",
    "delta"
   ]
  },
  {
   "cell_type": "code",
   "execution_count": 39,
   "metadata": {},
   "outputs": [
    {
     "data": {
      "text/plain": [
       "array([[100.  , 110.  , 121.  , 133.1 , 146.41],\n",
       "       [  0.  ,  90.  ,  99.  , 108.9 , 119.79],\n",
       "       [  0.  ,   0.  ,  81.  ,  89.1 ,  98.01],\n",
       "       [  0.  ,   0.  ,   0.  ,  72.9 ,  80.19],\n",
       "       [  0.  ,   0.  ,   0.  ,   0.  ,  65.61]])"
      ]
     },
     "execution_count": 39,
     "metadata": {},
     "output_type": "execute_result"
    }
   ],
   "source": [
    "# European put option test\n",
    "# Asset price\n",
    "px = binomial_option(100,100,0.05,0.2,1,4,call_option=False,output=0)\n",
    "px"
   ]
  },
  {
   "cell_type": "code",
   "execution_count": 40,
   "metadata": {},
   "outputs": [
    {
     "data": {
      "text/plain": [
       "array([[-0.  ,  0.  ,  0.  ,  0.  ,  0.  ],\n",
       "       [ 0.  , 10.  ,  1.  ,  0.  ,  0.  ],\n",
       "       [ 0.  ,  0.  , 19.  , 10.9 ,  1.99],\n",
       "       [ 0.  ,  0.  ,  0.  , 27.1 , 19.81],\n",
       "       [ 0.  ,  0.  ,  0.  ,  0.  , 34.39]])"
      ]
     },
     "execution_count": 40,
     "metadata": {},
     "output_type": "execute_result"
    }
   ],
   "source": [
    "# Intrinsic value of call options: payoff\n",
    "payoff=binomial_option(100,100,0.05,0.2,1,4,call_option=False,output=1)\n",
    "payoff"
   ]
  },
  {
   "cell_type": "code",
   "execution_count": 41,
   "metadata": {},
   "outputs": [
    {
     "data": {
      "text/plain": [
       "array([[ 5.44,  2.22,  0.37,  0.  ,  0.  ],\n",
       "       [ 0.  ,  9.74,  4.65,  0.86,  0.  ],\n",
       "       [ 0.  ,  0.  , 16.55,  9.67,  1.99],\n",
       "       [ 0.  ,  0.  ,  0.  , 25.87, 19.81],\n",
       "       [ 0.  ,  0.  ,  0.  ,  0.  , 34.39]])"
      ]
     },
     "execution_count": 41,
     "metadata": {},
     "output_type": "execute_result"
    }
   ],
   "source": [
    "# Option price \n",
    "opx=binomial_option(100,100,0.05,0.2,1,4,call_option=False,output=2)\n",
    "opx"
   ]
  },
  {
   "cell_type": "code",
   "execution_count": 42,
   "metadata": {},
   "outputs": [
    {
     "data": {
      "text/plain": [
       "array([[-0.3759, -0.1947, -0.0355,  0.    ,  0.    ],\n",
       "       [ 0.    , -0.6607, -0.4447, -0.0914,  0.    ],\n",
       "       [ 0.    ,  0.    , -1.    , -1.    ,  0.    ],\n",
       "       [ 0.    ,  0.    ,  0.    , -1.    ,  0.    ],\n",
       "       [ 0.    ,  0.    ,  0.    ,  0.    ,  0.    ]])"
      ]
     },
     "execution_count": 42,
     "metadata": {},
     "output_type": "execute_result"
    }
   ],
   "source": [
    "# Option delta\n",
    "delta=binomial_option(100,100,0.05,0.2,1,4,call_option=False,output=3)\n",
    "delta"
   ]
  },
  {
   "cell_type": "code",
   "execution_count": 44,
   "metadata": {},
   "outputs": [
    {
     "data": {
      "text/plain": [
       "array([[100.  , 110.  , 121.  , 133.1 , 146.41],\n",
       "       [  0.  ,  90.  ,  99.  , 108.9 , 119.79],\n",
       "       [  0.  ,   0.  ,  81.  ,  89.1 ,  98.01],\n",
       "       [  0.  ,   0.  ,   0.  ,  72.9 ,  80.19],\n",
       "       [  0.  ,   0.  ,   0.  ,   0.  ,  65.61]])"
      ]
     },
     "execution_count": 44,
     "metadata": {},
     "output_type": "execute_result"
    }
   ],
   "source": [
    "#American call option test\n",
    "# Asset price\n",
    "px = binomial_option(100,100,0.05,0.2,1,4,US_option=True,output=0)\n",
    "px"
   ]
  },
  {
   "cell_type": "code",
   "execution_count": 45,
   "metadata": {},
   "outputs": [
    {
     "data": {
      "text/plain": [
       "array([[ 0.  , 10.  , 21.  , 33.1 , 46.41],\n",
       "       [ 0.  ,  0.  ,  0.  ,  8.9 , 19.79],\n",
       "       [ 0.  ,  0.  ,  0.  ,  0.  ,  0.  ],\n",
       "       [ 0.  ,  0.  ,  0.  ,  0.  ,  0.  ],\n",
       "       [ 0.  ,  0.  ,  0.  ,  0.  ,  0.  ]])"
      ]
     },
     "execution_count": 45,
     "metadata": {},
     "output_type": "execute_result"
    }
   ],
   "source": [
    "payoff=binomial_option(100,100,0.05,0.2,1,4,US_option=True,output=1)\n",
    "payoff"
   ]
  },
  {
   "cell_type": "code",
   "execution_count": 46,
   "metadata": {},
   "outputs": [
    {
     "data": {
      "text/plain": [
       "array([[10.29, 15.88, 23.83, 34.33, 46.41],\n",
       "       [ 0.  ,  3.39,  6.11, 10.99, 19.79],\n",
       "       [ 0.  ,  0.  ,  0.  ,  0.  ,  0.  ],\n",
       "       [ 0.  ,  0.  ,  0.  ,  0.  ,  0.  ],\n",
       "       [ 0.  ,  0.  ,  0.  ,  0.  ,  0.  ]])"
      ]
     },
     "execution_count": 46,
     "metadata": {},
     "output_type": "execute_result"
    }
   ],
   "source": [
    "# Option price \n",
    "opx=binomial_option(100,100,0.05,0.2,1,4,US_option=True,output=2)\n",
    "opx"
   ]
  },
  {
   "cell_type": "code",
   "execution_count": 47,
   "metadata": {},
   "outputs": [
    {
     "data": {
      "text/plain": [
       "array([[0.6241, 0.8053, 0.9645, 1.    , 0.    ],\n",
       "       [0.    , 0.3393, 0.5553, 0.9086, 0.    ],\n",
       "       [0.    , 0.    , 0.    , 0.    , 0.    ],\n",
       "       [0.    , 0.    , 0.    , 0.    , 0.    ],\n",
       "       [0.    , 0.    , 0.    , 0.    , 0.    ]])"
      ]
     },
     "execution_count": 47,
     "metadata": {},
     "output_type": "execute_result"
    }
   ],
   "source": [
    "# Option delta\n",
    "delta=binomial_option(100,100,0.05,0.2,1,4,US_option=True,output=3)\n",
    "delta"
   ]
  },
  {
   "cell_type": "code",
   "execution_count": null,
   "metadata": {},
   "outputs": [],
   "source": []
  }
 ],
 "metadata": {
  "kernelspec": {
   "display_name": "Python 3",
   "language": "python",
   "name": "python3"
  },
  "language_info": {
   "codemirror_mode": {
    "name": "ipython",
    "version": 3
   },
   "file_extension": ".py",
   "mimetype": "text/x-python",
   "name": "python",
   "nbconvert_exporter": "python",
   "pygments_lexer": "ipython3",
   "version": "3.7.3"
  }
 },
 "nbformat": 4,
 "nbformat_minor": 2
}
