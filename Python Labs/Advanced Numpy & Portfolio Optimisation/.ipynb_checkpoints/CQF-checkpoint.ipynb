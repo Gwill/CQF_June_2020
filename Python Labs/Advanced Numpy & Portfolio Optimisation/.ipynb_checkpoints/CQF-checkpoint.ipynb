{
 "cells": [
  {
   "cell_type": "code",
   "execution_count": 131,
   "metadata": {},
   "outputs": [],
   "source": [
    "#import relevant libraries\n",
    "\n",
    "import numpy as np\n",
    "import pandas as pd\n",
    "import matplotlib.pyplot as plt\n",
    "import yfinance as yf\n",
    "from alpha_vantage.timeseries import TimeSeries\n",
    "import scipy.stats\n",
    "from scipy.stats import norm\n",
    "import statsmodels.api as sm\n",
    "\n",
    "from matplotlib.pyplot import rcParams\n",
    "\n",
    "# matplotlib rcParams rcdefaults() command will restore the standard matplotlib default settings. \n",
    "#There is some degree of validation when setting the values of rcParams, see matplotlib.\n",
    "rcParams['figure.figsize'] = 12, 6"
   ]
  },
  {
   "cell_type": "code",
   "execution_count": 153,
   "metadata": {},
   "outputs": [],
   "source": [
    "# Plot QQ plot"
   ]
  },
  {
   "cell_type": "code",
   "execution_count": null,
   "metadata": {},
   "outputs": [],
   "source": [
    "def qq_plot(ret):\n",
    "    ret=\n",
    "    GSPC['Return']. hist(bins = 200, figsize = (8 ,6), color='pink')\n",
    "    plt.title('GSPC returns')\n",
    "    sm.qqplot(GSPC['Return'].dropna(), line='s')\n",
    "    plt.grid(True)\n",
    "    plt.xlabel('Theoretical quantiles')\n",
    "    plt.ylabel('Sample quantiles')\n",
    "    plt.title('Normal-QQ plot, GSPC returns')"
   ]
  },
  {
   "cell_type": "code",
   "execution_count": null,
   "metadata": {},
   "outputs": [],
   "source": []
  },
  {
   "cell_type": "code",
   "execution_count": null,
   "metadata": {},
   "outputs": [],
   "source": []
  },
  {
   "cell_type": "code",
   "execution_count": 151,
   "metadata": {},
   "outputs": [],
   "source": [
    "# Financial Data"
   ]
  },
  {
   "cell_type": "code",
   "execution_count": 132,
   "metadata": {},
   "outputs": [],
   "source": [
    "def download_endofday_data_yf(stock_list=['AAPL', 'AMZN', 'FB', 'GOOG', 'NFLX'], start_date= '2013-06-01', end_date= '2020-06-30', save_csv=False, file_name='faang_stocks.csv'):\n",
    "    '''Retrieving end-of-day data from yahoo finance.\n",
    "    Options to modify the stocks list, start and end dates, and save the data in csv format. '''\n",
    "   \n",
    "    df = yf.download(stock_list, start=start_date, end=end_date, progress=False)['Adj Close']\n",
    "    \n",
    "    if save_csv==True:\n",
    "        df.to_csv(file_name)\n",
    "        \n",
    "    return df"
   ]
  },
  {
   "cell_type": "code",
   "execution_count": 133,
   "metadata": {},
   "outputs": [],
   "source": [
    "def download_ohlc_data_yf(stock_list=['AAPL', 'AMZN', 'FB', 'GOOG', 'NFLX'], start_date= '2013-06-01', end_date= '2020-06-30',save_csv=False):\n",
    "    '''Retrieving end-of-day data from yahoo finance with ohlc.\n",
    "    Options to modify the stocks list, start and end dates, and save the data of individual stock in different csv files.\n",
    "    Return the results in a dictionary.'''\n",
    "    \n",
    "    ohlc_data = {symbol: yf.download(symbol, start=start_date, end=end_date, progress=False) for symbol in stock_list}\n",
    "    \n",
    "    if save_csv==True:\n",
    "        [pd.DataFrame(ohlc_data[symbol]).to_csv(symbol+'.csv') for symbol in stock_list]\n",
    "        \n",
    "    return ohlc_data"
   ]
  },
  {
   "cell_type": "code",
   "execution_count": 134,
   "metadata": {},
   "outputs": [],
   "source": [
    "def download_intraday_data_yf(tickers=\"SPY\", period=\"5d\", interval=\"1m\",save_csv=False, file_name='SPY.csv'):\n",
    "    '''Retrieving intraday data from yahoo finance. \n",
    "    Options to modify the stocks, period, interval, and save the data in csv format.'''\n",
    "    \n",
    "    dfi = yf.download(tickers=tickers, period=period, interval=interval, progress=False)\n",
    "    \n",
    "    # Save the data in csv format\n",
    "    if save_csv==True:\n",
    "        dfi.to_csv(file_name)\n",
    "    \n",
    "    return dfi"
   ]
  },
  {
   "cell_type": "code",
   "execution_count": 135,
   "metadata": {},
   "outputs": [],
   "source": [
    "def download_intraday_data_data_av(key_path = \"Key.txt\",stock='AMZN',interval='1min'):\n",
    "    '''Retrieving intraday data from alpha vantage. \n",
    "    Options to modify the stocks, period, interval, and save the data in csv format.\n",
    "    Download the key in advance and save as 'Key.csv'. '''\n",
    "    \n",
    "    ts = TimeSeries(key=open(key_path, 'r').read(),output_format='pandas')\n",
    "    data, metadata  = ts.get_intraday(symbol=stock,interval=interval, outputsize='full')\n",
    "    \n",
    "    return data"
   ]
  },
  {
   "cell_type": "code",
   "execution_count": 136,
   "metadata": {},
   "outputs": [],
   "source": [
    "def load_data(filename='faang_stocks.csv'):\n",
    "    '''Load csv file.\n",
    "    Option to modify file name.'''\n",
    "    df = pd.read_csv(filename, index_col=0, parse_dates=True)\n",
    "    return df"
   ]
  },
  {
   "cell_type": "code",
   "execution_count": 152,
   "metadata": {},
   "outputs": [
    {
     "name": "stdout",
     "output_type": "stream",
     "text": [
      "________________________________________________________________________________________________________________________\n"
     ]
    }
   ],
   "source": [
    "print('_'*120)"
   ]
  },
  {
   "cell_type": "code",
   "execution_count": null,
   "metadata": {},
   "outputs": [],
   "source": [
    "# Portfolio management"
   ]
  },
  {
   "cell_type": "code",
   "execution_count": 137,
   "metadata": {},
   "outputs": [],
   "source": [
    "def get_daily_return(df=load_data(filename='faang_stocks.csv')):\n",
    "    ret = df.pct_change().dropna(0)\n",
    "    return ret"
   ]
  },
  {
   "cell_type": "code",
   "execution_count": 138,
   "metadata": {},
   "outputs": [],
   "source": [
    "def daily_vol(ret):\n",
    "    return ret.std()"
   ]
  },
  {
   "cell_type": "code",
   "execution_count": 139,
   "metadata": {},
   "outputs": [],
   "source": [
    "def annualize_rets(ret, periods_per_year=252): \n",
    "    \"\"\"Annualizes a set of returns\"\"\"\n",
    "    return ret.mean() * 252"
   ]
  },
  {
   "cell_type": "code",
   "execution_count": 140,
   "metadata": {},
   "outputs": [],
   "source": [
    "def annualize_vol(ret, periods_per_year=252):\n",
    "    \"\"\"Annualizes the vol of a set of returns\"\"\"\n",
    "    return ret.std()*(periods_per_year**0.5)"
   ]
  },
  {
   "cell_type": "code",
   "execution_count": 141,
   "metadata": {},
   "outputs": [],
   "source": [
    "def sharpe_ratio(ret, riskfree_rate, periods_per_year=252):\n",
    "    \"\"\"\n",
    "    Computes the annualized sharpe ratio of a set of returns\n",
    "    \"\"\"\n",
    "    # convert the annual riskfree rate to per period\n",
    "    rf_per_period = (1+riskfree_rate)**(1/periods_per_year)-1\n",
    "    excess_ret = ret - rf_per_period\n",
    "    ann_ex_ret = annualize_rets(excess_ret, periods_per_year)\n",
    "    ann_vol = annualize_vol(ret, periods_per_year)\n",
    "    return ann_ex_ret/ann_vol"
   ]
  },
  {
   "cell_type": "code",
   "execution_count": 142,
   "metadata": {},
   "outputs": [],
   "source": [
    "def is_normal(ret, level=0.01):\n",
    "    \"\"\"\n",
    "    Applies the Jarque-Bera test to determine if a Series is normal or not\n",
    "    Test is applied at the 1% level by default\n",
    "    Returns True if the hypothesis of normality is accepted, False otherwise\n",
    "    \"\"\"\n",
    "    if isinstance(ret, pd.DataFrame):\n",
    "        return ret.aggregate(is_normal)\n",
    "    else:\n",
    "        statistic, p_value = scipy.stats.jarque_bera(ret)\n",
    "        return p_value > level"
   ]
  },
  {
   "cell_type": "code",
   "execution_count": 143,
   "metadata": {},
   "outputs": [],
   "source": [
    "def var_historic(ret, level=5):\n",
    "    \"\"\"\n",
    "    Returns the historic Value at Risk at a specified level\n",
    "    i.e. returns the number such that \"level\" percent of the returns\n",
    "    fall below that number, and the (100-level) percent are above\n",
    "    \"\"\"\n",
    "    if isinstance(ret, pd.DataFrame):\n",
    "        return ret.aggregate(var_historic, level=level)\n",
    "    elif isinstance(r, pd.Series):\n",
    "        return -np.percentile(r, level)\n",
    "    else:\n",
    "        raise TypeError(\"Expected return to be a Series or DataFrame\")"
   ]
  },
  {
   "cell_type": "code",
   "execution_count": 144,
   "metadata": {},
   "outputs": [],
   "source": [
    "def cvar_historic(ret, level=5):\n",
    "    \"\"\"\n",
    "    Computes the Conditional VaR of Series or DataFrame\n",
    "    \"\"\"\n",
    "    if isinstance(ret, pd.Series):\n",
    "        is_beyond = ret <= -var_historic(r, level=level)\n",
    "        return -r[is_beyond].mean()\n",
    "    elif isinstance(ret, pd.DataFrame):\n",
    "        return r.aggregate(cvar_historic, level=level)\n",
    "    else:\n",
    "        raise TypeError(\"Expected r to be a Series or DataFrame\")"
   ]
  },
  {
   "cell_type": "code",
   "execution_count": null,
   "metadata": {},
   "outputs": [],
   "source": [
    "def var_gaussian(r, level=5, modified=False):\n",
    "    \"\"\"\n",
    "    Returns the Parametric Gauusian VaR of a Series or DataFrame\n",
    "    If \"modified\" is True, then the modified VaR is returned,\n",
    "    using the Cornish-Fisher modification\n",
    "    \"\"\"\n",
    "    # compute the Z score assuming it was Gaussian\n",
    "    z = norm.ppf(level/100)\n",
    "    if modified:\n",
    "        # modify the Z score based on observed skewness and kurtosis\n",
    "        s = skewness(r)\n",
    "        k = kurtosis(r)\n",
    "        z = (z +\n",
    "                (z**2 - 1)*s/6 +\n",
    "                (z**3 -3*z)*(k-3)/24 -\n",
    "                (2*z**3 - 5*z)*(s**2)/36\n",
    "            )\n",
    "    return -(r.mean() + z*r.std(ddof=0))"
   ]
  },
  {
   "cell_type": "code",
   "execution_count": null,
   "metadata": {},
   "outputs": [],
   "source": [
    "def portfolio_return(weights, ret):\n",
    "    \"\"\"\n",
    "    Computes the return on a portfolio from constituent returns and weights\n",
    "    weights are a numpy array or Nx1 matrix and returns are a numpy array or Nx1 matrix\n",
    "    \"\"\"\n",
    "    return weights.T @ ret\n"
   ]
  },
  {
   "cell_type": "code",
   "execution_count": null,
   "metadata": {},
   "outputs": [],
   "source": [
    "def portfolio_vol(weights, covmat):\n",
    "    \"\"\"\n",
    "    Computes the vol of a portfolio from a covariance matrix and constituent weights\n",
    "    weights are a numpy array or N x 1 maxtrix and covmat is an N x N matrix\n",
    "    \"\"\"\n",
    "    return (weights.T @ covmat @ weights)**0.5"
   ]
  },
  {
   "cell_type": "code",
   "execution_count": null,
   "metadata": {},
   "outputs": [],
   "source": []
  },
  {
   "cell_type": "code",
   "execution_count": null,
   "metadata": {},
   "outputs": [],
   "source": []
  },
  {
   "cell_type": "code",
   "execution_count": null,
   "metadata": {},
   "outputs": [],
   "source": []
  },
  {
   "cell_type": "code",
   "execution_count": 130,
   "metadata": {},
   "outputs": [
    {
     "name": "stdout",
     "output_type": "stream",
     "text": [
      "      daily volatility  annual return  annual volatility\n",
      "AAPL          0.017170       0.298977           0.272570\n",
      "AMZN          0.019076       0.370623           0.302814\n",
      "FB            0.021472       0.368988           0.340857\n",
      "GOOG          0.016232       0.197999           0.257678\n",
      "NFLX          0.026522       0.459583           0.421021\n",
      "      daily volatility\n",
      "AAPL          0.017170\n",
      "AMZN          0.019076\n",
      "FB            0.021472\n",
      "GOOG          0.016232\n",
      "NFLX          0.026522\n",
      "      annual return\n",
      "AAPL       0.298977\n",
      "AMZN       0.370623\n",
      "FB         0.368988\n",
      "GOOG       0.197999\n",
      "NFLX       0.459583\n"
     ]
    }
   ],
   "source": [
    "ret=get_daily_return()\n",
    "vol=pd.DataFrame(daily_vol(ret),columns=['daily volatility'])\n",
    "ann_ret=pd.DataFrame(annualize_rets(ret),columns=['annual return'])\n",
    "ann_vol=pd.DataFrame(annualize_vol(ret),columns=['annual volatility'])\n",
    "result=pd.concat([vol,ann_ret,ann_vol],axis=1)\n",
    "#df=[pd.DataFrame(symbol) for symbol in result]\n",
    "print(result)"
   ]
  },
  {
   "cell_type": "code",
   "execution_count": 76,
   "metadata": {},
   "outputs": [
    {
     "data": {
      "text/html": [
       "<div>\n",
       "<style scoped>\n",
       "    .dataframe tbody tr th:only-of-type {\n",
       "        vertical-align: middle;\n",
       "    }\n",
       "\n",
       "    .dataframe tbody tr th {\n",
       "        vertical-align: top;\n",
       "    }\n",
       "\n",
       "    .dataframe thead th {\n",
       "        text-align: right;\n",
       "    }\n",
       "</style>\n",
       "<table border=\"1\" class=\"dataframe\">\n",
       "  <thead>\n",
       "    <tr style=\"text-align: right;\">\n",
       "      <th></th>\n",
       "      <th>AAPL</th>\n",
       "      <th>AMZN</th>\n",
       "      <th>FB</th>\n",
       "      <th>GOOG</th>\n",
       "      <th>NFLX</th>\n",
       "    </tr>\n",
       "    <tr>\n",
       "      <th>Date</th>\n",
       "      <th></th>\n",
       "      <th></th>\n",
       "      <th></th>\n",
       "      <th></th>\n",
       "      <th></th>\n",
       "    </tr>\n",
       "  </thead>\n",
       "  <tbody>\n",
       "    <tr>\n",
       "      <th>2013-05-31</th>\n",
       "      <td>0.000000</td>\n",
       "      <td>0.000000</td>\n",
       "      <td>0.000000</td>\n",
       "      <td>0.000000</td>\n",
       "      <td>0.000000</td>\n",
       "    </tr>\n",
       "    <tr>\n",
       "      <th>2013-06-03</th>\n",
       "      <td>0.002202</td>\n",
       "      <td>-0.008618</td>\n",
       "      <td>-0.020534</td>\n",
       "      <td>-0.004121</td>\n",
       "      <td>-0.018917</td>\n",
       "    </tr>\n",
       "    <tr>\n",
       "      <th>2013-06-04</th>\n",
       "      <td>-0.003129</td>\n",
       "      <td>-0.004421</td>\n",
       "      <td>-0.013836</td>\n",
       "      <td>-0.009831</td>\n",
       "      <td>0.015047</td>\n",
       "    </tr>\n",
       "    <tr>\n",
       "      <th>2013-06-05</th>\n",
       "      <td>-0.009348</td>\n",
       "      <td>0.005533</td>\n",
       "      <td>-0.026361</td>\n",
       "      <td>0.000698</td>\n",
       "      <td>-0.008211</td>\n",
       "    </tr>\n",
       "    <tr>\n",
       "      <th>2013-06-06</th>\n",
       "      <td>-0.014940</td>\n",
       "      <td>0.002470</td>\n",
       "      <td>0.003057</td>\n",
       "      <td>0.005746</td>\n",
       "      <td>-0.025597</td>\n",
       "    </tr>\n",
       "  </tbody>\n",
       "</table>\n",
       "</div>"
      ],
      "text/plain": [
       "                AAPL      AMZN        FB      GOOG      NFLX\n",
       "Date                                                        \n",
       "2013-05-31  0.000000  0.000000  0.000000  0.000000  0.000000\n",
       "2013-06-03  0.002202 -0.008618 -0.020534 -0.004121 -0.018917\n",
       "2013-06-04 -0.003129 -0.004421 -0.013836 -0.009831  0.015047\n",
       "2013-06-05 -0.009348  0.005533 -0.026361  0.000698 -0.008211\n",
       "2013-06-06 -0.014940  0.002470  0.003057  0.005746 -0.025597"
      ]
     },
     "execution_count": 76,
     "metadata": {},
     "output_type": "execute_result"
    }
   ],
   "source": [
    "df=load_data()\n",
    "# Calculate returns \n",
    "ret = df.pct_change().fillna(0)\n",
    "ann_ret = (ret.mean() * 252)\n",
    "vols = returns.std()"
   ]
  },
  {
   "cell_type": "code",
   "execution_count": null,
   "metadata": {},
   "outputs": [],
   "source": []
  },
  {
   "cell_type": "code",
   "execution_count": null,
   "metadata": {},
   "outputs": [],
   "source": []
  },
  {
   "cell_type": "code",
   "execution_count": null,
   "metadata": {},
   "outputs": [],
   "source": []
  },
  {
   "cell_type": "code",
   "execution_count": null,
   "metadata": {},
   "outputs": [],
   "source": []
  },
  {
   "cell_type": "code",
   "execution_count": 77,
   "metadata": {},
   "outputs": [],
   "source": [
    "\n",
    "    "
   ]
  },
  {
   "cell_type": "code",
   "execution_count": 78,
   "metadata": {},
   "outputs": [
    {
     "data": {
      "text/html": [
       "<div>\n",
       "<style scoped>\n",
       "    .dataframe tbody tr th:only-of-type {\n",
       "        vertical-align: middle;\n",
       "    }\n",
       "\n",
       "    .dataframe tbody tr th {\n",
       "        vertical-align: top;\n",
       "    }\n",
       "\n",
       "    .dataframe thead th {\n",
       "        text-align: right;\n",
       "    }\n",
       "</style>\n",
       "<table border=\"1\" class=\"dataframe\">\n",
       "  <thead>\n",
       "    <tr style=\"text-align: right;\">\n",
       "      <th></th>\n",
       "      <th>AAPL</th>\n",
       "      <th>AMZN</th>\n",
       "      <th>FB</th>\n",
       "      <th>GOOG</th>\n",
       "      <th>NFLX</th>\n",
       "    </tr>\n",
       "    <tr>\n",
       "      <th>Date</th>\n",
       "      <th></th>\n",
       "      <th></th>\n",
       "      <th></th>\n",
       "      <th></th>\n",
       "      <th></th>\n",
       "    </tr>\n",
       "  </thead>\n",
       "  <tbody>\n",
       "    <tr>\n",
       "      <th>2013-05-31</th>\n",
       "      <td>0.000000</td>\n",
       "      <td>0.000000</td>\n",
       "      <td>0.000000</td>\n",
       "      <td>0.000000</td>\n",
       "      <td>0.000000</td>\n",
       "    </tr>\n",
       "    <tr>\n",
       "      <th>2013-06-03</th>\n",
       "      <td>0.002202</td>\n",
       "      <td>-0.008618</td>\n",
       "      <td>-0.020534</td>\n",
       "      <td>-0.004121</td>\n",
       "      <td>-0.018917</td>\n",
       "    </tr>\n",
       "    <tr>\n",
       "      <th>2013-06-04</th>\n",
       "      <td>-0.003129</td>\n",
       "      <td>-0.004421</td>\n",
       "      <td>-0.013836</td>\n",
       "      <td>-0.009831</td>\n",
       "      <td>0.015047</td>\n",
       "    </tr>\n",
       "    <tr>\n",
       "      <th>2013-06-05</th>\n",
       "      <td>-0.009348</td>\n",
       "      <td>0.005533</td>\n",
       "      <td>-0.026361</td>\n",
       "      <td>0.000698</td>\n",
       "      <td>-0.008211</td>\n",
       "    </tr>\n",
       "    <tr>\n",
       "      <th>2013-06-06</th>\n",
       "      <td>-0.014940</td>\n",
       "      <td>0.002470</td>\n",
       "      <td>0.003057</td>\n",
       "      <td>0.005746</td>\n",
       "      <td>-0.025597</td>\n",
       "    </tr>\n",
       "  </tbody>\n",
       "</table>\n",
       "</div>"
      ],
      "text/plain": [
       "                AAPL      AMZN        FB      GOOG      NFLX\n",
       "Date                                                        \n",
       "2013-05-31  0.000000  0.000000  0.000000  0.000000  0.000000\n",
       "2013-06-03  0.002202 -0.008618 -0.020534 -0.004121 -0.018917\n",
       "2013-06-04 -0.003129 -0.004421 -0.013836 -0.009831  0.015047\n",
       "2013-06-05 -0.009348  0.005533 -0.026361  0.000698 -0.008211\n",
       "2013-06-06 -0.014940  0.002470  0.003057  0.005746 -0.025597"
      ]
     },
     "execution_count": 78,
     "metadata": {},
     "output_type": "execute_result"
    }
   ],
   "source": [
    "df=get_faang_return()\n",
    "df.head()"
   ]
  },
  {
   "cell_type": "code",
   "execution_count": null,
   "metadata": {},
   "outputs": [],
   "source": []
  }
 ],
 "metadata": {
  "kernelspec": {
   "display_name": "Python 3",
   "language": "python",
   "name": "python3"
  },
  "language_info": {
   "codemirror_mode": {
    "name": "ipython",
    "version": 3
   },
   "file_extension": ".py",
   "mimetype": "text/x-python",
   "name": "python",
   "nbconvert_exporter": "python",
   "pygments_lexer": "ipython3",
   "version": "3.7.3"
  }
 },
 "nbformat": 4,
 "nbformat_minor": 2
}
