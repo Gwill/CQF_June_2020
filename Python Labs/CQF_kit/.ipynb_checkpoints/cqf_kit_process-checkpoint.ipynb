{
 "cells": [
  {
   "cell_type": "code",
   "execution_count": 1,
   "metadata": {},
   "outputs": [],
   "source": [
    "#import relevant libraries\n",
    "\n",
    "import numpy as np\n",
    "import pandas as pd\n",
    "import matplotlib.pyplot as plt\n",
    "import yfinance as yf\n",
    "from alpha_vantage.timeseries import TimeSeries\n",
    "import scipy.stats\n",
    "from scipy.stats import norm\n",
    "import statsmodels.api as sm\n",
    "from scipy.optimize import minimize\n",
    "\n",
    "from matplotlib.pyplot import rcParams\n",
    "\n",
    "# matplotlib rcParams rcdefaults() command will restore the standard matplotlib default settings. \n",
    "#There is some degree of validation when setting the values of rcParams, see matplotlib.\n",
    "rcParams['figure.figsize'] = 12, 6"
   ]
  },
  {
   "cell_type": "code",
   "execution_count": 2,
   "metadata": {},
   "outputs": [],
   "source": [
    "def load_data(filename='faang_stocks.csv'):\n",
    "    '''\n",
    "    Load csv file.\n",
    "    Option to modify file name.'''\n",
    "    df = pd.read_csv(filename, index_col=0, parse_dates=True)\n",
    "    return df"
   ]
  },
  {
   "cell_type": "code",
   "execution_count": 3,
   "metadata": {},
   "outputs": [],
   "source": [
    "def d_ret(df=load_data('faang_stocks.csv')):\n",
    "    '''\n",
    "    Load the stock Adj Close price and calculate the daily return.'''\n",
    "    return df.pct_change().fillna(0)"
   ]
  },
  {
   "cell_type": "code",
   "execution_count": 4,
   "metadata": {},
   "outputs": [],
   "source": [
    "def equal_wts(ret):\n",
    "    '''\n",
    "    Generate an array with equal weights'''\n",
    "    n_asset=ret.shape[1]\n",
    "    value = 1./n_asset\n",
    "    wts = np.full((n_asset,1),value)\n",
    "    return wts"
   ]
  },
  {
   "cell_type": "code",
   "execution_count": 38,
   "metadata": {},
   "outputs": [],
   "source": [
    "def random_wts(ret):\n",
    "    '''Generate an array with normalised random weights'''\n",
    "    n_asset = ret.shape[1]\n",
    "    wts = np.random.random_sample((n_asset,1))\n",
    "    wts /= sum(wts)\n",
    "    return wts"
   ]
  },
  {
   "cell_type": "code",
   "execution_count": 39,
   "metadata": {},
   "outputs": [],
   "source": [
    "def port_ret(wts):\n",
    "    '''\n",
    "    Calculate portfolio returns based on individual asset's weights and daily returns.'''\n",
    "    return wts.T @ np.array(ret.mean() * 252)[:,np.newaxis] "
   ]
  },
  {
   "cell_type": "code",
   "execution_count": 40,
   "metadata": {},
   "outputs": [],
   "source": [
    "def port_vol(wts):\n",
    "    '''\n",
    "    Calculate portfolio volatility based on individual asset's weights and daily returns.'''\n",
    "    return np.array((wts.T@ret.cov()*252@wts)**0.5)"
   ]
  },
  {
   "cell_type": "code",
   "execution_count": 48,
   "metadata": {},
   "outputs": [],
   "source": [
    "def port_sr(wts):\n",
    "    return (port_ret(wts)-r_free)/port_vol(wts)"
   ]
  },
  {
   "cell_type": "code",
   "execution_count": 49,
   "metadata": {},
   "outputs": [],
   "source": [
    "def port_stats(wts):\n",
    "    '''\n",
    "    Generate portfolio statistics based on individual asset's weights and daily returns.\n",
    "    Return the result: 0: portfolio return, 1: portfolio volatility, 2: portfolio sharpe ratio'''\n",
    "    port_rets = wts.T @ np.array(ret.mean() * 252)[:,np.newaxis]    \n",
    "    port_vols = np.sqrt(np.linalg.multi_dot([wts.T, ret.cov() * 252, wts])) \n",
    "    return np.array([port_rets, np.array([port_vols]), (port_rets-r_free)/port_vols]).flatten()"
   ]
  },
  {
   "cell_type": "code",
   "execution_count": 57,
   "metadata": {},
   "outputs": [],
   "source": [
    "def port_sim(n_port,r_free=0):\n",
    "    '''\n",
    "    Generate portfolio simulation based on individual asset's return and number of portfolio.\n",
    "    Return the result: 0: portfolio return, 1: portfolio volatility, 2: the random portfolio weights generated\n",
    "    '''\n",
    "    n_asset = ret.shape[1]\n",
    "    # Initialize the lists\n",
    "    rets = []\n",
    "    vols = []\n",
    "    wts = []\n",
    "\n",
    "    # Simulate n_port portfolios\n",
    "    for i in range (n_port):\n",
    "    \n",
    "        # Generate random weights\n",
    "        weights = np.random.random(n_asset)[:, np.newaxis]\n",
    "        weights /= sum(weights)\n",
    "        \n",
    "        port_ret = weights.T @ np.array(ret.mean() * 252)[:, np.newaxis]\n",
    "        port_vol = np.sqrt(np.linalg.multi_dot([weights.T, ret.cov()*252, weights]))\n",
    "    \n",
    "        # Portfolio statistics\n",
    "        rets.append(port_ret)        \n",
    "        vols.append(port_vol)\n",
    "        wts.append(weights.flatten())\n",
    "\n",
    "        # Record values     \n",
    "        port_rets = np.array(rets).flatten()\n",
    "        port_vols = np.array(vols).flatten()\n",
    "        port_wts = np.array(wts)\n",
    "        \n",
    "    return pd.DataFrame({'returns': port_rets,\n",
    "                      'volatility': port_vols,\n",
    "                      'sharpe_ratio': (port_rets-r_free)/port_vols,\n",
    "                      'weights': list(port_wts)})"
   ]
  },
  {
   "cell_type": "code",
   "execution_count": 70,
   "metadata": {},
   "outputs": [],
   "source": [
    "def msr_sim(n_port,r_free=0):\n",
    "    '''\n",
    "    Generate random weights arrays and find the maximum Sharpe ratio within the simulation. \n",
    "    Return the results in portfolio returns, volatility, Sharpe ratio, and weights for maximum Sharpe ration.\n",
    "    Function is sensitive to n_port.'''\n",
    "    n_asset=ret.shape[1]\n",
    "    data=port_sim(n_port,r_free)\n",
    "    msrp = data.iloc[data['sharpe_ratio'].idxmax()]\n",
    "    return msrp"
   ]
  },
  {
   "cell_type": "code",
   "execution_count": 119,
   "metadata": {},
   "outputs": [],
   "source": [
    "def port_sim_vis(n_port, r_free=0):\n",
    "    '''\n",
    "    Generate random weights arrays and plot the portfolio volatility on x-axis and the portfolio return on y-axis.\n",
    "    The portfolio with maximum Sharpe ratio is marked.\n",
    "    Function is sensitive to n_port.'''\n",
    "    n_asset = ret.shape[1]    \n",
    "    port = port_sim(n_port,r_free)\n",
    "    port_rets = port['returns']\n",
    "    port_vols = port['volatility']\n",
    "    port_sr = port['sharpe_ratio']\n",
    "    \n",
    "    msrp = msr_sim(n_port,r_free)\n",
    "    \n",
    "    # Visualize the simulated portfolio for risk and return\n",
    "    fig = plt.figure(figsize=(12,6))\n",
    "    ax = plt.axes()\n",
    "\n",
    "    ax.set_title('Monte Carlo Simulated Allocation')\n",
    "\n",
    "    # Simulated portfolios\n",
    "    fig.colorbar(ax.scatter(port_vols, port_rets, c=port_sr, \n",
    "                        marker='o', cmap='RdYlGn', edgecolors='black'), label='Sharpe Ratio') \n",
    "\n",
    "    # Maximum sharpe ratio portfolio\n",
    "    ax.scatter(msrp['volatility'], msrp['returns'], c='red', marker='*', s = 300, label='Max Sharpe Ratio')\n",
    "\n",
    "    ax.set_xlabel('Expected Volatility')\n",
    "    ax.set_ylabel('Expected Return')\n",
    "    ax.grid(True)\n"
   ]
  },
  {
   "cell_type": "code",
   "execution_count": 105,
   "metadata": {},
   "outputs": [],
   "source": [
    "def msr_opt(r_free=0):\n",
    "    '''Find the maximum Sharpe ratio through optimization.\n",
    "    Return the results: [0:p_stats][0: the portfolio return, 1: the portfolio volatility, 3: Sharpe ratio], [1:p_wts]\n",
    "    '''\n",
    "    n_asset = ret.shape[1]\n",
    "    cons = ({'type': 'eq', 'fun': lambda x: np.sum(x) - 1})\n",
    "    bnds = tuple((0, 1) for x in range(n_asset))\n",
    "    initial_wts = n_asset*[1./n_asset]\n",
    "    def neg_sr(wts):\n",
    "        return -port_sr(wts)\n",
    "    wts = minimize(neg_sr, initial_wts, method='SLSQP', bounds=bnds, constraints=cons)\n",
    "    p_stats = np.around(port_stats(wts['x']),4)\n",
    "    p_wts = np.around(wts['x'],4)\n",
    "    return [p_stats, p_wts]"
   ]
  },
  {
   "cell_type": "code",
   "execution_count": 109,
   "metadata": {},
   "outputs": [],
   "source": [
    "def mv_opt(r_free=0):\n",
    "    '''Find the minimum portfolio volatility through optimization.\n",
    "    Return the results in the portfolio return, volatility, and Sharpe ratio.\n",
    "    '''\n",
    "    n_asset = ret.shape[1]\n",
    "    cons = ({'type': 'eq', 'fun': lambda x: np.sum(x) - 1})\n",
    "    bnds = tuple((0, 1) for x in range(n_asset))\n",
    "    initial_wts = n_asset*[1./n_asset]\n",
    "    \n",
    "    def min_variance(wts):\n",
    "        return port_vol(wts)\n",
    "    wts = minimize(min_variance, initial_wts, method='SLSQP', bounds=bnds, constraints=cons)\n",
    "    p_stats = np.around(port_stats(wts['x']),4)\n",
    "    p_wts = np.around(wts['x'],4)\n",
    "    return [p_stats, p_wts]\n"
   ]
  },
  {
   "cell_type": "code",
   "execution_count": 117,
   "metadata": {},
   "outputs": [],
   "source": [
    "def ef_vis(r_free,show_msr=False,show_mv=False):\n",
    "    \n",
    "    # Minimize the volatility\n",
    "    def min_volatility(wts):\n",
    "        return port_vol(wts)\n",
    "    n_asset = ret.shape[1]\n",
    "    targetrets = np.linspace(0.20,0.45,100)\n",
    "    tvols = []\n",
    "    for tr in targetrets:\n",
    "        initial_wts = n_asset*[1./n_asset]\n",
    "        bnds = tuple((0, 1) for x in range(n_asset))\n",
    "        ef_cons = ({'type': 'eq', 'fun': lambda x: port_ret(x) - tr},\n",
    "               {'type': 'eq', 'fun': lambda x: np.sum(x) - 1})\n",
    "        opt_ef = minimize(min_volatility, initial_wts, method='SLSQP', bounds=bnds, constraints=ef_cons)\n",
    "        tvols.append(opt_ef['fun'])\n",
    "    targetvols = np.array(tvols)\n",
    "    # Visualize the simulated portfolio for risk and return\n",
    "    fig = plt.figure(figsize=(12,6))\n",
    "    ax = plt.axes()\n",
    "    ax.set_title('Efficient Frontier Portfolio')\n",
    "    # Efficient Frontier\n",
    "    fig.colorbar(ax.scatter(targetvols, targetrets, c=(targetrets-r_free) / targetvols, \n",
    "                        marker='x', cmap='RdYlGn', edgecolors='black'), label='Sharpe Ratio') \n",
    "    \n",
    "    # Maximum Sharpe Portfolio\n",
    "    if show_msr:\n",
    "        p_msr = msr_opt(r_free)\n",
    "        ax.plot(p_msr[0][1], p_msr[0][0], 'r*', markersize =15.0)\n",
    "        \n",
    "    # Minimum Variance Portfolio\n",
    "    if show_mv:\n",
    "        p_mv = mv_opt(r_free)\n",
    "        ax.plot(p_mv[0][1], p_mv[0][0], 'b*', markersize =15.0)\n",
    "    \n",
    "    ax.set_xlabel('Expected Volatility')\n",
    "    ax.set_ylabel('Expected Return')\n",
    "    ax.grid(True)"
   ]
  },
  {
   "cell_type": "code",
   "execution_count": null,
   "metadata": {},
   "outputs": [],
   "source": []
  },
  {
   "cell_type": "code",
   "execution_count": null,
   "metadata": {},
   "outputs": [],
   "source": []
  },
  {
   "cell_type": "code",
   "execution_count": null,
   "metadata": {},
   "outputs": [],
   "source": []
  },
  {
   "cell_type": "code",
   "execution_count": null,
   "metadata": {},
   "outputs": [],
   "source": []
  },
  {
   "cell_type": "code",
   "execution_count": null,
   "metadata": {},
   "outputs": [],
   "source": []
  },
  {
   "cell_type": "code",
   "execution_count": 118,
   "metadata": {},
   "outputs": [
    {
     "data": {
      "image/png": "[encoded data removed]",
      "text/plain": [
       "<Figure size 864x432 with 2 Axes>"
      ]
     },
     "metadata": {
      "needs_background": "light"
     },
     "output_type": "display_data"
    }
   ],
   "source": [
    "ef_vis(r_free,show_msr=True,show_mv=True)"
   ]
  },
  {
   "cell_type": "code",
   "execution_count": null,
   "metadata": {},
   "outputs": [],
   "source": []
  }
 ],
 "metadata": {
  "kernelspec": {
   "display_name": "Python 3",
   "language": "python",
   "name": "python3"
  },
  "language_info": {
   "codemirror_mode": {
    "name": "ipython",
    "version": 3
   },
   "file_extension": ".py",
   "mimetype": "text/x-python",
   "name": "python",
   "nbconvert_exporter": "python",
   "pygments_lexer": "ipython3",
   "version": "3.7.3"
  }
 },
 "nbformat": 4,
 "nbformat_minor": 2
}
