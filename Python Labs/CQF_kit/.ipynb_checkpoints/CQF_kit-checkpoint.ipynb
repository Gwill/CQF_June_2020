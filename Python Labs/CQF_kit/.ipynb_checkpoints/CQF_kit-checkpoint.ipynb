{
 "cells": [
  {
   "cell_type": "code",
   "execution_count": 1,
   "metadata": {},
   "outputs": [],
   "source": [
    "#import relevant libraries\n",
    "\n",
    "import numpy as np\n",
    "import pandas as pd\n",
    "import matplotlib.pyplot as plt\n",
    "import yfinance as yf\n",
    "from alpha_vantage.timeseries import TimeSeries\n",
    "from scipy.stats import norm\n",
    "#import statsmodels.api as sm\n",
    "from scipy.optimize import minimize\n",
    "from arch import arch_model\n",
    "import warnings\n",
    "warnings.filterwarnings('ignore')\n",
    "from matplotlib.pyplot import rcParams\n",
    "\n",
    "# matplotlib rcParams rcdefaults() command will restore the standard matplotlib default settings. \n",
    "#There is some degree of validation when setting the values of rcParams, see matplotlib.\n",
    "rcParams['figure.figsize'] = 12, 6"
   ]
  },
  {
   "cell_type": "code",
   "execution_count": 2,
   "metadata": {},
   "outputs": [],
   "source": [
    "#_____________________________________________________________________________________________________________________________#"
   ]
  },
  {
   "cell_type": "code",
   "execution_count": 3,
   "metadata": {},
   "outputs": [],
   "source": [
    "# Financial Data"
   ]
  },
  {
   "cell_type": "code",
   "execution_count": 4,
   "metadata": {},
   "outputs": [],
   "source": [
    "def load_data(filename='faang_stocks.csv'):\n",
    "    '''\n",
    "    Load csv file.\n",
    "    Option to modify file name.'''\n",
    "    df = pd.read_csv(filename, index_col=0, parse_dates=True)\n",
    "    return df"
   ]
  },
  {
   "cell_type": "code",
   "execution_count": 5,
   "metadata": {},
   "outputs": [],
   "source": [
    "def data_summary(df=load_data()):\n",
    "    '''Print a summary of data including count, mean, stdev, percentiles, and max.'''   \n",
    "    summary = df.describe().T\n",
    "    return summary"
   ]
  },
  {
   "cell_type": "code",
   "execution_count": 6,
   "metadata": {},
   "outputs": [],
   "source": [
    "def download_endofday_data_yf(stock_list=['AAPL', 'AMZN', 'FB', 'GOOG', 'NFLX'], start_date= '2013-06-01', end_date= '2020-06-30', save_csv=False, file_name='faang_stocks.csv'):\n",
    "    '''\n",
    "    Retrieving end-of-day data from yahoo finance.\n",
    "    Options to modify the stocks list, start and end dates, and save the data in csv format. '''\n",
    "   \n",
    "    df = yf.download(stock_list, start=start_date, end=end_date, progress=False)['Adj Close']\n",
    "    \n",
    "    if save_csv==True:\n",
    "        df.to_csv(file_name)\n",
    "        \n",
    "    return df"
   ]
  },
  {
   "cell_type": "code",
   "execution_count": 7,
   "metadata": {},
   "outputs": [],
   "source": [
    "def download_ohlc_data_yf(stock_list=['AAPL', 'AMZN', 'FB', 'GOOG', 'NFLX'], start_date= '2013-06-01', end_date= '2020-06-30',save_csv=False):\n",
    "    '''\n",
    "    Retrieving end-of-day data from yahoo finance with ohlc.\n",
    "    Options to modify the stocks list, start and end dates, and save the data of individual stock in different csv files.\n",
    "    Return the results in a dictionary.'''\n",
    "    \n",
    "    ohlc_data = {symbol: yf.download(symbol, start=start_date, end=end_date, progress=False) for symbol in stock_list}\n",
    "    \n",
    "    if save_csv==True:\n",
    "        [pd.DataFrame(ohlc_data[symbol]).to_csv(symbol+'.csv') for symbol in stock_list]\n",
    "        \n",
    "    return ohlc_data"
   ]
  },
  {
   "cell_type": "code",
   "execution_count": 8,
   "metadata": {},
   "outputs": [],
   "source": [
    "def download_intraday_data_yf(tickers=\"SPY\", period=\"5d\", interval=\"1m\",save_csv=False, file_name='SPY.csv'):\n",
    "    '''\n",
    "    Retrieving intraday data from yahoo finance. \n",
    "    Options to modify the stocks, period, interval, and save the data in csv format.'''\n",
    "    \n",
    "    dfi = yf.download(tickers=tickers, period=period, interval=interval, progress=False)\n",
    "    \n",
    "    # Save the data in csv format\n",
    "    if save_csv==True:\n",
    "        dfi.to_csv(file_name)\n",
    "    \n",
    "    return dfi"
   ]
  },
  {
   "cell_type": "code",
   "execution_count": 9,
   "metadata": {},
   "outputs": [],
   "source": [
    "def download_intraday_data_av(key_path = \"Key.txt\",stock='AMZN',interval='1min'):\n",
    "    '''\n",
    "    Retrieving intraday data from alpha vantage. \n",
    "    Options to modify the stocks, period, interval, and save the data in csv format.\n",
    "    Download the key in advance and save as 'Key.csv'. '''\n",
    "    \n",
    "    ts = TimeSeries(key=open(key_path, 'r').read(),output_format='pandas')\n",
    "    data, metadata  = ts.get_intraday(symbol=stock,interval=interval, outputsize='full')\n",
    "    \n",
    "    return data"
   ]
  },
  {
   "cell_type": "code",
   "execution_count": 10,
   "metadata": {},
   "outputs": [],
   "source": [
    "#_____________________________________________________________________________________________________________________________#"
   ]
  },
  {
   "cell_type": "code",
   "execution_count": 11,
   "metadata": {},
   "outputs": [],
   "source": [
    "# Plot QQ plot"
   ]
  },
  {
   "cell_type": "code",
   "execution_count": 12,
   "metadata": {},
   "outputs": [],
   "source": [
    "def hist_plot(ret=(load_data('M1L1.csv'))['Adj Close'].pct_change().dropna(0),bins = 200):\n",
    "    '''hist_plot is applied to visulise the sample distribution'''\n",
    "    ret.hist(bins = bins, figsize = (12 ,6), color='pink')\n",
    "    plt.title('SPX Daily Returns')"
   ]
  },
  {
   "cell_type": "code",
   "execution_count": 13,
   "metadata": {},
   "outputs": [],
   "source": [
    "def qq_plot(ret=(load_data('M1L1.csv'))['Adj Close'].pct_change().dropna(0)):\n",
    "    '''qq_plot is applied to check whether the distribution is normal or not. '''\n",
    "    sm.qqplot(ret.dropna(), line='s')\n",
    "    plt.grid(True)\n",
    "    plt.xlabel('Theoretical quantiles')\n",
    "    plt.ylabel('Sample quantiles')\n",
    "    plt.title('Normal-QQ plot, SPX returns')"
   ]
  },
  {
   "cell_type": "code",
   "execution_count": 14,
   "metadata": {},
   "outputs": [],
   "source": [
    "def is_normal(ret=(load_data('M1L1.csv'))['Adj Close'].pct_change().dropna(0), level=0.01):\n",
    "    \"\"\"\n",
    "    Extention from edhec_risk_kit\n",
    "    Applies the Jarque-Bera test to determine if a Series is normal or not\n",
    "    Test is applied at the 1% level by default\n",
    "    Returns True if the hypothesis of normality is accepted, False otherwise\n",
    "    \"\"\"\n",
    "    if isinstance(ret, pd.DataFrame):\n",
    "        return ret.aggregate(is_normal)\n",
    "    else:\n",
    "        statistic, p_value = scipy.stats.jarque_bera(ret)\n",
    "        return p_value > level"
   ]
  },
  {
   "cell_type": "code",
   "execution_count": 15,
   "metadata": {},
   "outputs": [],
   "source": [
    "#_____________________________________________________________________________________________________________________________#"
   ]
  },
  {
   "cell_type": "code",
   "execution_count": 16,
   "metadata": {},
   "outputs": [],
   "source": [
    "# Binomial option pricing"
   ]
  },
  {
   "cell_type": "code",
   "execution_count": 17,
   "metadata": {},
   "outputs": [],
   "source": [
    "def binomial_option(spot, strike, rate, sigma, time, steps, call_option=True, US_option=False, output=0):\n",
    "    '''Function to price European/ American option based on binomial model. \n",
    "    \n",
    "    Parameters\n",
    "    --------------\n",
    "    spot              int or float       - spot price\n",
    "    strike            int or float       - strike price\n",
    "    rate              float              - discount interest rate\n",
    "    sigma             float              - volatility \n",
    "    time              int or float       - expiration time with unit of year\n",
    "    steps             int                - number of time steps\n",
    "    call_option       bool               - True: call option, False: call option\n",
    "    US_option         bool               - True: American option, False: European option\n",
    "    output            int                - 0: px, price path, 1: payoff, 2: V, option value, 3: d, delta\n",
    "    '''\n",
    "    # define option_flag\n",
    "    if call_option==True:\n",
    "        option_flag=1\n",
    "    else: \n",
    "        option_flag=-1\n",
    "    \n",
    "    # define US_flag\n",
    "    if US_option==True:\n",
    "        US_flag=1\n",
    "    else:\n",
    "        US_flag=0\n",
    "        \n",
    "    # define other intermediate parameters\n",
    "    time_step=time/steps\n",
    "    u=1+sigma*np.sqrt(time_step)\n",
    "    v=1-sigma*np.sqrt(time_step)\n",
    "    p=1/2+rate*np.sqrt(time_step)/(2*sigma)\n",
    "    df=1/(1+rate*time_step)\n",
    "    \n",
    "    # initial arrays\n",
    "    px=np.zeros((steps+1,steps+1))         #price path\n",
    "    payoff=np.zeros((steps+1,steps+1))     #payoff\n",
    "    d=np.zeros((steps+1,steps+1))          #hedging delta\n",
    "    V=np.zeros((steps+1,steps+1))          #option value\n",
    "    \n",
    "    # calculate the price path:px and the payoff of option:payoff \n",
    "    for j in range(steps+1):\n",
    "        for i in range(j+1):\n",
    "            px[i,j]=spot*np.power(u,j-i)*np.power(v,i)\n",
    "            payoff[i,j]=np.maximum(option_flag*(px[i,j]-strike),0)\n",
    "            \n",
    "    # calculate the hedging delta:d and the option value:V\n",
    "    for j in range(steps+1,0,-1):\n",
    "        for i in range(j):\n",
    "            if (j==steps+1):\n",
    "                d[i,j-1]=0\n",
    "                V[i,j-1]=payoff[i,j-1]\n",
    "            else:\n",
    "                d[i,j-1]=(V[i,j]-V[i+1,j])/(px[i,j]-px[i+1,j])\n",
    "                V[i,j-1]=np.maximum(df*(p*V[i,j]+(1-p)*V[i+1,j]),US_flag*payoff[i,j-1])\n",
    "    \n",
    "    # combine results\n",
    "    results = np.around(px,2), np.around(payoff,2), np.around(V,2), np.around(d,4)\n",
    "    \n",
    "    return results[output]\n",
    "              \n",
    "    "
   ]
  },
  {
   "cell_type": "code",
   "execution_count": 18,
   "metadata": {},
   "outputs": [],
   "source": [
    "#_____________________________________________________________________________________________________________________________#"
   ]
  },
  {
   "cell_type": "code",
   "execution_count": 19,
   "metadata": {},
   "outputs": [],
   "source": [
    "# Portfolio optimisation"
   ]
  },
  {
   "cell_type": "code",
   "execution_count": 20,
   "metadata": {},
   "outputs": [],
   "source": [
    "def d_ret(df=load_data('faang_stocks.csv')):\n",
    "    '''\n",
    "    Load the stock Adj Close price and calculate the daily return.'''\n",
    "    return df.pct_change().dropna(0)"
   ]
  },
  {
   "cell_type": "code",
   "execution_count": 21,
   "metadata": {},
   "outputs": [],
   "source": [
    "'''For demonstration purpose, defaultly set return equals to faang_stocks' daily arithmetic return, \n",
    "   set n_asset as the number of assets in faang_stocks,\n",
    "   set r_free (risk free rate) as 0,\n",
    "   set n_port (number of monte carlo pathways) as 5000'''\n",
    "   \n",
    "   \n",
    "ret = d_ret()\n",
    "n_asset = ret.shape[1]\n",
    "r_free = 0\n",
    "n_port = 5000"
   ]
  },
  {
   "cell_type": "code",
   "execution_count": 22,
   "metadata": {},
   "outputs": [],
   "source": [
    "def d_vol(ret):\n",
    "    '''\n",
    "    Stdev of daily returns.'''\n",
    "    return ret.std()"
   ]
  },
  {
   "cell_type": "code",
   "execution_count": 23,
   "metadata": {},
   "outputs": [],
   "source": [
    "def d_cov(ret):\n",
    "    '''\n",
    "    Covariance of daily returns.'''\n",
    "    return ret.cov()"
   ]
  },
  {
   "cell_type": "code",
   "execution_count": 24,
   "metadata": {},
   "outputs": [],
   "source": [
    "def ann_ret(ret, periods_per_year=252): \n",
    "    \"\"\"\n",
    "    Annualizes a set of returns\"\"\"\n",
    "    return ret.mean() * 252"
   ]
  },
  {
   "cell_type": "code",
   "execution_count": 25,
   "metadata": {},
   "outputs": [],
   "source": [
    "def ann_vol(ret, periods_per_year=252):\n",
    "    \"\"\"\n",
    "    Annualizes the volatility of a set of returns\"\"\"\n",
    "    return ret.std()*(periods_per_year**0.5)"
   ]
  },
  {
   "cell_type": "code",
   "execution_count": 26,
   "metadata": {},
   "outputs": [],
   "source": [
    "def ann_cov(ret, periods_per_year=252):\n",
    "    \"\"\"\n",
    "    Annualizes the covariance of a set of returns\"\"\"\n",
    "    return ret.cov()*(periods_per_year)"
   ]
  },
  {
   "cell_type": "code",
   "execution_count": 27,
   "metadata": {},
   "outputs": [],
   "source": [
    "def equal_wts(ret):\n",
    "    '''\n",
    "    Generate an array with equal weights'''\n",
    "    n_asset=ret.shape[1]\n",
    "    value = 1./n_asset\n",
    "    wts = np.full((n_asset,1),value)\n",
    "    return wts"
   ]
  },
  {
   "cell_type": "code",
   "execution_count": 28,
   "metadata": {},
   "outputs": [],
   "source": [
    "def random_wts(ret):\n",
    "    '''\n",
    "    Generate an array with normalised random weights'''\n",
    "    n_asset = ret.shape[1]\n",
    "    wts = np.random.random_sample((n_asset,1))\n",
    "    wts /= sum(wts)\n",
    "    return wts"
   ]
  },
  {
   "cell_type": "code",
   "execution_count": 29,
   "metadata": {},
   "outputs": [],
   "source": [
    "def port_ret(wts):\n",
    "    '''\n",
    "    Calculate portfolio returns based on individual asset's weights and daily returns.'''\n",
    "    return wts.T @ np.array(ret.mean() * 252)[:,np.newaxis] "
   ]
  },
  {
   "cell_type": "code",
   "execution_count": 30,
   "metadata": {},
   "outputs": [],
   "source": [
    "def port_vol(wts):\n",
    "    '''\n",
    "    Calculate portfolio volatility based on individual asset's weights and daily returns.'''\n",
    "    return np.array((wts.T@ret.cov()*252@wts)**0.5)"
   ]
  },
  {
   "cell_type": "code",
   "execution_count": 31,
   "metadata": {},
   "outputs": [],
   "source": [
    "def port_sr(wts):\n",
    "    return (port_ret(wts)-r_free)/port_vol(wts)"
   ]
  },
  {
   "cell_type": "code",
   "execution_count": 32,
   "metadata": {},
   "outputs": [],
   "source": [
    "def port_stats(wts):\n",
    "    '''\n",
    "    Generate portfolio statistics based on individual asset's weights and daily returns.\n",
    "    Return the result: 0: portfolio return, 1: portfolio volatility, 2: portfolio sharpe ratio'''\n",
    "    port_rets = wts.T @ np.array(ret.mean() * 252)[:,np.newaxis]    \n",
    "    port_vols = np.sqrt(np.linalg.multi_dot([wts.T, ret.cov() * 252, wts])) \n",
    "    return np.array([port_rets, np.array([port_vols]), (port_rets-r_free)/port_vols]).flatten()"
   ]
  },
  {
   "cell_type": "code",
   "execution_count": 33,
   "metadata": {},
   "outputs": [],
   "source": [
    "def port_sim(n_port,r_free=0):\n",
    "    '''\n",
    "    Generate portfolio simulation based on individual asset's return and number of portfolio.\n",
    "    Return the result: 0: portfolio return, 1: portfolio volatility, 2: the random portfolio weights generated\n",
    "    '''\n",
    "    n_asset = ret.shape[1]\n",
    "    # Initialize the lists\n",
    "    rets = []\n",
    "    vols = []\n",
    "    wts = []\n",
    "\n",
    "    # Simulate n_port portfolios\n",
    "    for i in range (n_port):\n",
    "    \n",
    "        # Generate random weights\n",
    "        weights = np.random.random(n_asset)[:, np.newaxis]\n",
    "        weights /= sum(weights)\n",
    "        \n",
    "        port_ret = weights.T @ np.array(ret.mean() * 252)[:, np.newaxis]\n",
    "        port_vol = np.sqrt(np.linalg.multi_dot([weights.T, ret.cov()*252, weights]))\n",
    "    \n",
    "        # Portfolio statistics\n",
    "        rets.append(port_ret)        \n",
    "        vols.append(port_vol)\n",
    "        wts.append(weights.flatten())\n",
    "\n",
    "        # Record values     \n",
    "        port_rets = np.array(rets).flatten()\n",
    "        port_vols = np.array(vols).flatten()\n",
    "        port_wts = np.array(wts)\n",
    "        \n",
    "    return pd.DataFrame({'returns': port_rets,\n",
    "                      'volatility': port_vols,\n",
    "                      'sharpe_ratio': (port_rets-r_free)/port_vols,\n",
    "                      'weights': list(port_wts)})"
   ]
  },
  {
   "cell_type": "code",
   "execution_count": 34,
   "metadata": {},
   "outputs": [],
   "source": [
    "def msr_sim(n_port,r_free=0):\n",
    "    '''\n",
    "    Generate random weights arrays and find the maximum Sharpe ratio within the simulation. \n",
    "    Return the results in portfolio returns, volatility, Sharpe ratio, and weights for maximum Sharpe ration.\n",
    "    Function is sensitive to n_port.'''\n",
    "    n_asset=ret.shape[1]\n",
    "    data=port_sim(n_port,r_free)\n",
    "    msrp = data.iloc[data['sharpe_ratio'].idxmax()]\n",
    "    return msrp"
   ]
  },
  {
   "cell_type": "code",
   "execution_count": 35,
   "metadata": {},
   "outputs": [],
   "source": [
    "def port_sim_vis(n_port, r_free=0):\n",
    "    '''\n",
    "    Generate random weights arrays and plot the portfolio volatility on x-axis and the portfolio return on y-axis.\n",
    "    The portfolio with maximum Sharpe ratio is marked.\n",
    "    Function is sensitive to n_port.'''\n",
    "    n_asset = ret.shape[1]    \n",
    "    port = port_sim(n_port,r_free)\n",
    "    port_rets = port['returns']\n",
    "    port_vols = port['volatility']\n",
    "    port_sr = port['sharpe_ratio']\n",
    "    \n",
    "    msrp = msr_sim(n_port,r_free)\n",
    "    \n",
    "    # Visualize the simulated portfolio for risk and return\n",
    "    fig = plt.figure(figsize=(12,6))\n",
    "    ax = plt.axes()\n",
    "\n",
    "    ax.set_title('Monte Carlo Simulated Allocation')\n",
    "\n",
    "    # Simulated portfolios\n",
    "    fig.colorbar(ax.scatter(port_vols, port_rets, c=port_sr, \n",
    "                        marker='o', cmap='RdYlGn', edgecolors='black'), label='Sharpe Ratio') \n",
    "\n",
    "    # Maximum sharpe ratio portfolio\n",
    "    ax.scatter(msrp['volatility'], msrp['returns'], c='red', marker='*', s = 300, label='Max Sharpe Ratio')\n",
    "\n",
    "    ax.set_xlabel('Expected Volatility')\n",
    "    ax.set_ylabel('Expected Return')\n",
    "    ax.grid(True)"
   ]
  },
  {
   "cell_type": "code",
   "execution_count": 36,
   "metadata": {},
   "outputs": [
    {
     "data": {
      "image/png": "[encoded data removed]",
      "text/plain": [
       "<Figure size 864x432 with 2 Axes>"
      ]
     },
     "metadata": {
      "needs_background": "light"
     },
     "output_type": "display_data"
    }
   ],
   "source": [
    "n_port=500\n",
    "port_sim_vis(n_port, r_free=0)"
   ]
  },
  {
   "cell_type": "code",
   "execution_count": 37,
   "metadata": {},
   "outputs": [],
   "source": [
    "def msr_opt(r_free=0):\n",
    "    '''Find the maximum Sharpe ratio through optimization.\n",
    "    Return the results: [0:p_stats][0: the portfolio return, 1: the portfolio volatility, 3: Sharpe ratio], [1:p_wts]\n",
    "    '''\n",
    "    n_asset = ret.shape[1]\n",
    "    cons = ({'type': 'eq', 'fun': lambda x: np.sum(x) - 1})\n",
    "    bnds = tuple((0, 1) for x in range(n_asset))\n",
    "    initial_wts = n_asset*[1./n_asset]\n",
    "    def neg_sr(wts):\n",
    "        return -port_sr(wts)\n",
    "    wts = minimize(neg_sr, initial_wts, method='SLSQP', bounds=bnds, constraints=cons)\n",
    "    p_stats = np.around(port_stats(wts['x']),4)\n",
    "    p_wts = np.around(wts['x'],4)\n",
    "    return [p_stats, p_wts]"
   ]
  },
  {
   "cell_type": "code",
   "execution_count": 38,
   "metadata": {},
   "outputs": [],
   "source": [
    "def gmv_opt(r_free=0):\n",
    "    '''Find the minimum portfolio volatility through optimization, i.e. global minimum variance point.\n",
    "    Return the results in the portfolio return, volatility, and Sharpe ratio.\n",
    "    gmv is only sensitive in the covariance whereas msr depends on the expected return of individual asset and the covariance among assets.\n",
    "    gmv is a better pick for the portfolio construction as it's easier and more accurate to predict the covariance than the expected return.'''\n",
    "    n_asset = ret.shape[1]\n",
    "    cons = ({'type': 'eq', 'fun': lambda x: np.sum(x) - 1})\n",
    "    bnds = tuple((0, 1) for x in range(n_asset))\n",
    "    initial_wts = n_asset*[1./n_asset]\n",
    "    \n",
    "    def min_variance(wts):\n",
    "        return port_vol(wts)\n",
    "    wts = minimize(min_variance, initial_wts, method='SLSQP', bounds=bnds, constraints=cons)\n",
    "    p_stats = np.around(port_stats(wts['x']),4)\n",
    "    p_wts = np.around(wts['x'],4)\n",
    "    return [p_stats, p_wts]"
   ]
  },
  {
   "cell_type": "code",
   "execution_count": 39,
   "metadata": {},
   "outputs": [],
   "source": [
    "def ef_sim_vis(r_free=0,show_msr=False,show_mv=False):\n",
    "    '''\n",
    "    Generate equal spaced target returns, \n",
    "    calculate the corresponding minimum portfolio volatility,\n",
    "    plot the efficient frontier accordingly. \n",
    "    Options to plot maximum Sharpe ratio point and minimum variance point.'''\n",
    "    \n",
    "    # Minimize the volatility\n",
    "    def min_volatility(wts):\n",
    "        return port_vol(wts)\n",
    "    n_asset = ret.shape[1]\n",
    "    targetrets = np.linspace(0.20,0.45,100)\n",
    "    tvols = []\n",
    "    for tr in targetrets:\n",
    "        initial_wts = n_asset*[1./n_asset]\n",
    "        bnds = tuple((0, 1) for x in range(n_asset))\n",
    "        ef_cons = ({'type': 'eq', 'fun': lambda x: port_ret(x) - tr},\n",
    "               {'type': 'eq', 'fun': lambda x: np.sum(x) - 1})\n",
    "        opt_ef = minimize(min_volatility, initial_wts, method='SLSQP', bounds=bnds, constraints=ef_cons)\n",
    "        tvols.append(opt_ef['fun'])\n",
    "    targetvols = np.array(tvols)\n",
    "    # Visualize the simulated portfolio for risk and return\n",
    "    fig = plt.figure(figsize=(12,6))\n",
    "    ax = plt.axes()\n",
    "    ax.set_title('Efficient Frontier Portfolio')\n",
    "    # Efficient Frontier\n",
    "    fig.colorbar(ax.scatter(targetvols, targetrets, c=(targetrets-r_free) / targetvols, \n",
    "                        marker='x', cmap='RdYlGn', edgecolors='black'), label='Sharpe Ratio') \n",
    "    \n",
    "    # Maximum Sharpe Portfolio\n",
    "    if show_msr:\n",
    "        p_msr = msr_opt(r_free)\n",
    "        ax.plot(p_msr[0][1], p_msr[0][0], 'r*', markersize =15.0)\n",
    "        \n",
    "    # Minimum Variance Portfolio\n",
    "    if show_mv:\n",
    "        p_mv = gmv_opt(r_free)\n",
    "        ax.plot(p_mv[0][1], p_mv[0][0], 'b*', markersize =15.0)\n",
    "    \n",
    "    ax.set_xlabel('Expected Volatility')\n",
    "    ax.set_ylabel('Expected Return')\n",
    "    ax.grid(True)"
   ]
  },
  {
   "cell_type": "code",
   "execution_count": 75,
   "metadata": {},
   "outputs": [
    {
     "data": {
      "image/png": "[encoded data removed]",
      "text/plain": [
       "<Figure size 864x432 with 2 Axes>"
      ]
     },
     "metadata": {
      "needs_background": "light"
     },
     "output_type": "display_data"
    }
   ],
   "source": [
    "ef_sim_vis(r_free=0,show_msr=False,show_mv=True)"
   ]
  },
  {
   "cell_type": "code",
   "execution_count": 40,
   "metadata": {},
   "outputs": [],
   "source": [
    "#_____________________________________________________________________________________________________________________________#"
   ]
  },
  {
   "cell_type": "code",
   "execution_count": 41,
   "metadata": {},
   "outputs": [],
   "source": [
    "#VaR & ES"
   ]
  },
  {
   "cell_type": "code",
   "execution_count": 42,
   "metadata": {},
   "outputs": [],
   "source": [
    "def stock_price(stock,df=load_data('faang_stocks.csv')):\n",
    "    '''\n",
    "    Load the stock Adj Close price and calculate the daily return.'''\n",
    "    return df[stock].iloc[-1]"
   ]
  },
  {
   "cell_type": "code",
   "execution_count": 43,
   "metadata": {},
   "outputs": [],
   "source": [
    "def stock_price_all(df=load_data('faang_stocks.csv')):\n",
    "    '''\n",
    "    Load the stock Adj Close price and calculate the daily return.'''\n",
    "    return df.iloc[-1]"
   ]
  },
  {
   "cell_type": "code",
   "execution_count": 44,
   "metadata": {},
   "outputs": [],
   "source": [
    "def var_gaussian(stock, cl=0.95):\n",
    "    '''\n",
    "    Calculate the parametric VaR for selecting stock in faang_stocks.csv'''\n",
    "    mean = ret[stock].mean()\n",
    "    stdev = np.std(ret[stock])\n",
    "    return np.around(norm.ppf(1-cl,mean,stdev),4)"
   ]
  },
  {
   "cell_type": "code",
   "execution_count": 45,
   "metadata": {},
   "outputs": [],
   "source": [
    "def var_gaussian_all(cl=0.95):\n",
    "    '''\n",
    "    Calculate the parametric VaRs for all the stocks in faang_stocks.csv.\n",
    "    Return the results as a list: 0: stock, 1: VaR in percentage'''\n",
    "    stocks = np.array(ret.columns)\n",
    "    vars = np.around([var_gaussian(stock) for stock in stocks],4)\n",
    "    return [stocks,vars]"
   ]
  },
  {
   "cell_type": "code",
   "execution_count": 46,
   "metadata": {},
   "outputs": [],
   "source": [
    "def position(n_share,stock,df=load_data('faang_stocks.csv')):\n",
    "    '''\n",
    "    Calculate the postion of the stock'''\n",
    "    price = stock_price(stock)\n",
    "    return n_share * price"
   ]
  },
  {
   "cell_type": "code",
   "execution_count": 47,
   "metadata": {},
   "outputs": [],
   "source": [
    "def position_all(n_share,df=load_data('faang_stocks.csv')):\n",
    "    stocks=np.array(df.columns)\n",
    "    p_pos=[]\n",
    "    for stock in stocks:\n",
    "        pos=n_share*(df[stock].iloc[-1])\n",
    "        p_pos.append(pos)\n",
    "    p_pos=[round(x,2) for x in p_pos]\n",
    "    return [stocks,p_pos]\n",
    "    "
   ]
  },
  {
   "cell_type": "code",
   "execution_count": 48,
   "metadata": {},
   "outputs": [],
   "source": [
    "def port_pos(n_share,df=load_data('faang_stocks.csv')):\n",
    "    stocks=np.array(df.columns)\n",
    "    p_pos=[]\n",
    "    for stock in stocks:\n",
    "        pos=n_share*(df[stock].iloc[-1])\n",
    "        p_pos.append(pos)\n",
    "    return round(sum(p_pos),2)"
   ]
  },
  {
   "cell_type": "code",
   "execution_count": 49,
   "metadata": {},
   "outputs": [],
   "source": [
    "def var_value_gaussian(n_share,stock, cl=0.95):\n",
    "    '''\n",
    "    Calculate the parametric VaR in value for selecting stock in faang_stocks.csv'''\n",
    "    position = position(n_share,stock)\n",
    "    return np.around(position * var_gaussian(stock,cl),2)"
   ]
  },
  {
   "cell_type": "code",
   "execution_count": 50,
   "metadata": {},
   "outputs": [],
   "source": [
    "def var_value_gaussian1(n_share,stock, cl=0.95):\n",
    "    '''\n",
    "    Calculate the parametric VaR in value for selecting stock in faang_stocks.csv\n",
    "    Slightly different from scipy.norm.norm.ppf(1-cl,mean,stdev)'''\n",
    "    position = position(n_share,stock)\n",
    "    mean = ret[stock].mean()\n",
    "    stdev = np.std(ret[stock])\n",
    "    return np.around(position * (mean + norm.ppf(1-cl) * stdev),2)"
   ]
  },
  {
   "cell_type": "code",
   "execution_count": 51,
   "metadata": {},
   "outputs": [],
   "source": [
    "def var_hist(stock,cl=0.95):\n",
    "    '''\n",
    "    Find the historical VaR in percentage.'''\n",
    "    return np.around(ret[stock].quantile(1-cl),4)"
   ]
  },
  {
   "cell_type": "code",
   "execution_count": 52,
   "metadata": {},
   "outputs": [],
   "source": [
    "def var_hist_all(cl=0.95):\n",
    "    '''\n",
    "    Find the historical VaRs in percentage for all the stocks in faang_stocks.csv.\n",
    "    Return the results as a list: 0: stock, 1: VaR'''\n",
    "    stocks = np.array(ret.columns)\n",
    "    vars = np.array([var_hist(stock,cl) for stock in stocks])\n",
    "    return [stocks,vars]"
   ]
  },
  {
   "cell_type": "code",
   "execution_count": 53,
   "metadata": {},
   "outputs": [],
   "source": [
    "def cvar_hist(stock,cl=0.95):\n",
    "    '''\n",
    "    Calculate the historical CVaR in percentage for all the stocks in faang_stocks.csv\n",
    "    Return the results: 0: VaR, 1: CVaR'''\n",
    "    var = var_hist(stock,cl)\n",
    "    cvar = ret[stock][ret[stock]<=var].mean()\n",
    "    return np.around([var,cvar],4)"
   ]
  },
  {
   "cell_type": "code",
   "execution_count": 54,
   "metadata": {},
   "outputs": [],
   "source": [
    "def cvar_hist_all(cl=0.95):\n",
    "    '''\n",
    "    Calculate the historical CVaR in percentage for all the stocks in faang_stocks.csv\n",
    "    Return the results: 0: stock, 1: VaR in percentage, 2: CVaR in percentage'''\n",
    "    stocks = np.array(ret.columns)\n",
    "    vars = []\n",
    "    cvars = []\n",
    "    for stock in stocks:\n",
    "        var = cvar_hist(stock,cl)[0]\n",
    "        cvar = cvar_hist(stock,cl)[1]\n",
    "        vars.append(var)\n",
    "        cvars.append(cvar)    \n",
    "    return [stocks,vars,cvars]"
   ]
  },
  {
   "cell_type": "code",
   "execution_count": 55,
   "metadata": {},
   "outputs": [],
   "source": [
    "def var_sim(n_sims,mean,stdev,cl=0.95):\n",
    "    '''\n",
    "    Use Monte Carlo method to generate random returns based on mean and stdev.\n",
    "    The value is more close to the historical VaR rather than CVaR'''\n",
    "    # Set seed for reproducibility\n",
    "    np.random.seed(12345)\n",
    "    sim_ret = np.random.normal(mean, stdev, n_sims)\n",
    "    return np.around(np.quantile(sim_ret,1-cl),4)"
   ]
  },
  {
   "cell_type": "code",
   "execution_count": 56,
   "metadata": {},
   "outputs": [],
   "source": [
    "def port_var(wts,cl=0.95):\n",
    "    p_mean = np.dot(ret,wts).mean()\n",
    "    p_stdev = np.sqrt(np.linalg.multi_dot([wts.T, ret.cov(), wts]))\n",
    "    p_var=norm.ppf(1-cl,p_mean,p_stdev).flatten()[0]\n",
    "    return np.around(p_var,4)   "
   ]
  },
  {
   "cell_type": "code",
   "execution_count": 57,
   "metadata": {},
   "outputs": [],
   "source": [
    "def var_gaussian_stats(cl=0.95):\n",
    "    stocks = ret.columns\n",
    "    print('VaR for FAANG Stocks')\n",
    "    print('---'*12)\n",
    "    [print(f'VaR at {cl*100:2}% CL for {stock} : {var_gaussian(stock,cl)*100:2}%') for stock in stocks][0]"
   ]
  },
  {
   "cell_type": "code",
   "execution_count": 58,
   "metadata": {},
   "outputs": [],
   "source": [
    "def port_var_stats(n_share,wts,df=load_data('faang_stocks.csv'),cl=0.95):\n",
    "    stocks=np.array(df.columns)\n",
    "    # Iterate over symbols\n",
    "    for stock in stocks:\n",
    "        pos = df[stock].iloc[-1] * n_share\n",
    "        var = pos * var_gaussian(stock,cl)\n",
    "    \n",
    "        print(f'{stock} Holding Value: {pos:0.4}') \n",
    "        print(f'{stock} VaR at 95% confidence level: {var:0.4}')\n",
    "        print('-'*60)\n",
    "    \n",
    "    print(f'Portfolio Holding Value: {port_pos(n_share,df):0.4}')\n",
    "    print(f'Portoflio VaR at 95% confidence level: {port_var(wts,cl):0.4}')"
   ]
  },
  {
   "cell_type": "code",
   "execution_count": 59,
   "metadata": {},
   "outputs": [],
   "source": [
    "#_____________________________________________________________________________________________________________________________#"
   ]
  },
  {
   "cell_type": "code",
   "execution_count": 60,
   "metadata": {},
   "outputs": [],
   "source": [
    "#GARCH"
   ]
  },
  {
   "cell_type": "code",
   "execution_count": 61,
   "metadata": {},
   "outputs": [],
   "source": [
    "def load_vol_data(filename='vol.csv'):\n",
    "    '''\n",
    "    Load csv file.\n",
    "    Option to modify file name.'''\n",
    "    df = pd.read_csv(filename, index_col=0, parse_dates=True)\n",
    "    return df"
   ]
  },
  {
   "cell_type": "code",
   "execution_count": 62,
   "metadata": {},
   "outputs": [],
   "source": [
    "def log_ret(df=load_data('vol.csv')):\n",
    "    '''\n",
    "    Load the VIX and S&P index and calculate the log return.'''\n",
    "    return np.log(df).diff().fillna(0)"
   ]
  },
  {
   "cell_type": "code",
   "execution_count": 63,
   "metadata": {},
   "outputs": [],
   "source": [
    "def index_return_plot(df=load_data('vol.csv')):\n",
    "    '''\n",
    "    Generate the log return plot of the VIX and S&P index.'''\n",
    "    returns=log_ret1(df)\n",
    "    plt.figure(figsize=(12,6))\n",
    "    plt.plot(returns)\n",
    "    plt.title('Index Returns')\n",
    "    plt.legend(returns.columns)\n",
    "    plt.grid(True)"
   ]
  },
  {
   "cell_type": "code",
   "execution_count": 64,
   "metadata": {},
   "outputs": [],
   "source": [
    "def garch(omega, alpha, beta, ret):\n",
    "    '''\n",
    "    Definition of GARCH model, return the results in variance.'''\n",
    "    length = len(ret) \n",
    "    variance = []\n",
    "    for i in range(length):\n",
    "        if i==0:\n",
    "            variance.append(omega/np.abs(1-alpha-beta))\n",
    "        else:\n",
    "            variance.append(omega + alpha * ret[i-1]**2 + beta * variance[i-1])           \n",
    "    return np.array(variance)"
   ]
  },
  {
   "cell_type": "code",
   "execution_count": 65,
   "metadata": {},
   "outputs": [],
   "source": [
    "def likelihood(params, ret):\n",
    "    '''\n",
    "    Definition of the maximum likelihood theorem regarding to GARCH model.'''\n",
    "    \n",
    "    length = len(ret)\n",
    "    omega = params[0]\n",
    "    alpha = params[1]\n",
    "    beta = params[2]\n",
    "    \n",
    "    variance = garch(omega, alpha, beta, ret)\n",
    "    \n",
    "    llh = []\n",
    "    for i in range(length):\n",
    "        llh.append(np.log(norm.pdf(ret[i], 0, np.sqrt(variance[i]))))\n",
    "    \n",
    "    return -np.sum(np.array(llh))"
   ]
  },
  {
   "cell_type": "code",
   "execution_count": 66,
   "metadata": {},
   "outputs": [],
   "source": [
    "def garch_param(ret):\n",
    "    '''\n",
    "    Calculate GARCH parameters based on the maximum likelyhood theorem.\n",
    "    Return results: 0: parameter name, 1: parameter value'''\n",
    "    param_name = np.array(['omega', 'alpha', 'beta'])\n",
    "    initial_values = (0.00000790570, 0.1,0.8)\n",
    "    res = minimize(likelihood, initial_values, args = ret, \n",
    "                   method='Nelder-Mead', options={'disp':False})\n",
    "    param = res['x']\n",
    "    return([param_name,param])"
   ]
  },
  {
   "cell_type": "code",
   "execution_count": 67,
   "metadata": {},
   "outputs": [],
   "source": [
    "def conditional_variance_garch(ret):\n",
    "    param = garch_param(ret)\n",
    "    omega = param[1][0] \n",
    "    alpha = param[1][1]\n",
    "    beta = param[1][2]\n",
    "    return garch(omega, alpha, beta, ret)"
   ]
  },
  {
   "cell_type": "code",
   "execution_count": 68,
   "metadata": {},
   "outputs": [],
   "source": [
    "def conditional_ann_vol_garch(ret,periods_per_year=252):\n",
    "    variance=conditional_variance_garch(ret)\n",
    "    ann_vol=np.sqrt(variance*periods_per_year)\n",
    "    return ann_vol"
   ]
  },
  {
   "cell_type": "code",
   "execution_count": 69,
   "metadata": {},
   "outputs": [],
   "source": [
    "def garch_vix_vis(df=load_data('vol.csv')):\n",
    "    '''\n",
    "    GARCH annual volatility of S&P 500 in % has a very similar shape of VIX log return'''\n",
    "    ret=np.log(df).diff().fillna(0)['S&P 500']\n",
    "    ann_vol=conditional_ann_vol_garch(ret)*100\n",
    "    plt.figure(figsize=(12,6))\n",
    "    plt.title('Annualized Volatility')\n",
    "    plt.plot(ret.index, ann_vol, color='orange', label='GARCH')\n",
    "    plt.plot(ret.index, df['VIX'], color='blue', label = 'VIX')\n",
    "    plt.ylabel('GARCH annual volatility of S&P 500 in % / VIX log return')\n",
    "    plt.xlabel('Time')\n",
    "    plt.legend(loc=2)\n",
    "    plt.grid(True) "
   ]
  },
  {
   "cell_type": "code",
   "execution_count": 70,
   "metadata": {},
   "outputs": [],
   "source": [
    "def garch_variance_forcast(ret,period=732, plot=False):\n",
    "    param = garch_param(ret)\n",
    "    omega = param[1][0] \n",
    "    alpha = param[1][1]\n",
    "    beta = param[1][2]\n",
    "    longrun_variance = omega/(1-alpha-beta)\n",
    "    fvar = []\n",
    "    var = conditional_variance_garch(ret)\n",
    "    for i in range(1,period):    \n",
    "        fvar.append(longrun_variance + (alpha+beta)**i * (var[-1] - longrun_variance))\n",
    "    var = np.array(fvar)\n",
    "    if plot:\n",
    "        # Plot volatility forecast over different time horizon\n",
    "        plt.figure(figsize=(12,6))\n",
    "        plt.axhline(y=np.sqrt(longrun_variance*252)*100, color='blue')\n",
    "        plt.plot(np.sqrt(var*252)*100, color='red')\n",
    "\n",
    "        plt.xlabel('Horizon (in days)')\n",
    "        plt.ylabel('Volatility (%)')\n",
    "\n",
    "        plt.annotate('GARCH Forecast', xy=(650,15.60), color='red')\n",
    "        plt.annotate('Longrun Volatility =' + str(np.around(np.sqrt(longrun_variance*252)*100,2)) + '%', \n",
    "             xy=(0,15.70), color='blue')\n",
    "\n",
    "        plt.title('Volatility Forecast : N-days Ahead')\n",
    "        plt.grid(axis='x')\n",
    "    return var"
   ]
  },
  {
   "cell_type": "code",
   "execution_count": 71,
   "metadata": {},
   "outputs": [],
   "source": [
    "def mean_zero_garch(ret,plot=False):\n",
    "    g1 = arch_model(ret, vol='GARCH', mean='Zero', p=1, o=0, q=1, dist='Normal')\n",
    "    model = g1.fit()\n",
    "    if plot:\n",
    "        plt.figure(figsize=(12,6))\n",
    "        fig = model.plot(annualize='D')\n",
    "    return model"
   ]
  },
  {
   "cell_type": "code",
   "execution_count": 72,
   "metadata": {},
   "outputs": [],
   "source": [
    "def const_mean_garch(ret,plot=False):\n",
    "    # Constant mean\n",
    "    g2 = arch_model(ret, vol='GARCH', mean='Constant', p=1, o=0, q=1, dist='Normal')\n",
    "    model = g2.fit(disp='off')\n",
    "    if plot:\n",
    "        plt.figure(figsize=(12,6))\n",
    "        fig = model.plot(annualize='D')\n",
    "    return model"
   ]
  },
  {
   "cell_type": "code",
   "execution_count": 73,
   "metadata": {},
   "outputs": [],
   "source": [
    "def mean_zero_garch_forcast(ret,plot=False):\n",
    "    # Constant mean\n",
    "    g1 = arch_model(ret, vol='GARCH', mean='Zero', p=1, o=0, q=1, dist='Normal')\n",
    "    model = g1.fit()\n",
    "    model_forecast = model.forecast(horizon=60)\n",
    "    forecast_df = pd.DataFrame(np.sqrt(model_forecast.variance.dropna().T *252)*100)\n",
    "    forecast_df.columns = ['Cond_Vol']\n",
    "    if plot:\n",
    "        plt.figure(figsize=(12,6))\n",
    "        plt.plot(forecast_df, color='blue')\n",
    "        plt.xlim(0,60)\n",
    "        plt.xticks(rotation=90)\n",
    "        plt.xlabel('Horizon (in days)')\n",
    "        plt.ylabel('Volatility (%)')\n",
    "        plt.title('Mean Zero Volatility Forecast : 60-days Ahead');\n",
    "        plt.grid(True)\n",
    "    return forecast_df"
   ]
  },
  {
   "cell_type": "code",
   "execution_count": 74,
   "metadata": {},
   "outputs": [],
   "source": [
    "def const_mean_garch_forcast(ret,plot=False):\n",
    "    # Constant mean\n",
    "    g2 = arch_model(ret, vol='GARCH', mean='Constant', p=1, o=0, q=1, dist='Normal')\n",
    "    model = g2.fit(disp='off')\n",
    "    model_forecast = model.forecast(horizon=60)\n",
    "    forecast_df = pd.DataFrame(np.sqrt(model_forecast.variance.dropna().T *252)*100)\n",
    "    forecast_df.columns = ['Cond_Vol']\n",
    "    if plot:\n",
    "        plt.figure(figsize=(12,6))\n",
    "        plt.plot(forecast_df, color='blue')\n",
    "        plt.xlim(0,60)\n",
    "        plt.xticks(rotation=90)\n",
    "        plt.xlabel('Horizon (in days)')\n",
    "        plt.ylabel('Volatility (%)')\n",
    "        plt.title('Constant Mean Volatility Forecast : 60-days Ahead');\n",
    "        plt.grid(True)\n",
    "    return forecast_df"
   ]
  },
  {
   "cell_type": "code",
   "execution_count": null,
   "metadata": {},
   "outputs": [],
   "source": []
  },
  {
   "cell_type": "code",
   "execution_count": null,
   "metadata": {},
   "outputs": [],
   "source": []
  }
 ],
 "metadata": {
  "kernelspec": {
   "display_name": "Python 3",
   "language": "python",
   "name": "python3"
  },
  "language_info": {
   "codemirror_mode": {
    "name": "ipython",
    "version": 3
   },
   "file_extension": ".py",
   "mimetype": "text/x-python",
   "name": "python",
   "nbconvert_exporter": "python",
   "pygments_lexer": "ipython3",
   "version": "3.7.3"
  }
 },
 "nbformat": 4,
 "nbformat_minor": 2
}
